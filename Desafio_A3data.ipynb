{
  "nbformat": 4,
  "nbformat_minor": 0,
  "metadata": {
    "colab": {
      "name": "Desafio_A3data.ipynb",
      "provenance": [],
      "collapsed_sections": [],
      "authorship_tag": "ABX9TyOh9opgLWd6JCEc3voeZC8u",
      "include_colab_link": true
    },
    "kernelspec": {
      "name": "python3",
      "display_name": "Python 3"
    }
  },
  "cells": [
    {
      "cell_type": "markdown",
      "metadata": {
        "id": "view-in-github",
        "colab_type": "text"
      },
      "source": [
        "<a href=\"https://colab.research.google.com/github/wendelvilaca/python-code/blob/master/Desafio_A3data.ipynb\" target=\"_parent\"><img src=\"https://colab.research.google.com/assets/colab-badge.svg\" alt=\"Open In Colab\"/></a>"
      ]
    },
    {
      "cell_type": "code",
      "metadata": {
        "id": "vwYs0U-rIjq_"
      },
      "source": [
        "import numpy as np #biblioteca utilizada para trabalhar com vetores\r\n",
        "import pandas as pd #biblioteca para trabalhar com dataframes (planilhas excel)\r\n",
        "import seaborn as sns #biblioteca utilizada para criar gráficos mais \"bonitos\"\r\n",
        "import matplotlib.pyplot as plt #biblioteca para criar gráficos \"comuns\" ao estilo Matlab\r\n",
        "import google\r\n"
      ],
      "execution_count": 4,
      "outputs": []
    },
    {
      "cell_type": "markdown",
      "metadata": {
        "id": "Jl8iFrD7jMgU"
      },
      "source": [
        "**Tabela Ocorrência**\r\n",
        "\r\n"
      ]
    },
    {
      "cell_type": "code",
      "metadata": {
        "colab": {
          "base_uri": "https://localhost:8080/",
          "height": 224
        },
        "id": "Xcok0qs-jEg4",
        "outputId": "09855309-f62c-4451-b678-b909484f1231"
      },
      "source": [
        "df_ocorrencia = pd.read_csv('../content/ocorrencia.csv', sep=\";\")\r\n",
        "df_ocorrencia.head()\r\n"
      ],
      "execution_count": 5,
      "outputs": [
        {
          "output_type": "execute_result",
          "data": {
            "text/html": [
              "<div>\n",
              "<style scoped>\n",
              "    .dataframe tbody tr th:only-of-type {\n",
              "        vertical-align: middle;\n",
              "    }\n",
              "\n",
              "    .dataframe tbody tr th {\n",
              "        vertical-align: top;\n",
              "    }\n",
              "\n",
              "    .dataframe thead th {\n",
              "        text-align: right;\n",
              "    }\n",
              "</style>\n",
              "<table border=\"1\" class=\"dataframe\">\n",
              "  <thead>\n",
              "    <tr style=\"text-align: right;\">\n",
              "      <th></th>\n",
              "      <th>codigo_ocorrencia</th>\n",
              "      <th>codigo_ocorrencia1</th>\n",
              "      <th>codigo_ocorrencia2</th>\n",
              "      <th>codigo_ocorrencia3</th>\n",
              "      <th>codigo_ocorrencia4</th>\n",
              "      <th>ocorrencia_classificacao</th>\n",
              "      <th>ocorrencia_latitude</th>\n",
              "      <th>ocorrencia_longitude</th>\n",
              "      <th>ocorrencia_cidade</th>\n",
              "      <th>ocorrencia_uf</th>\n",
              "      <th>ocorrencia_pais</th>\n",
              "      <th>ocorrencia_aerodromo</th>\n",
              "      <th>ocorrencia_dia</th>\n",
              "      <th>ocorrencia_hora</th>\n",
              "      <th>investigacao_aeronave_liberada</th>\n",
              "      <th>investigacao_status</th>\n",
              "      <th>divulgacao_relatorio_numero</th>\n",
              "      <th>divulgacao_relatorio_publicado</th>\n",
              "      <th>divulgacao_dia_publicacao</th>\n",
              "      <th>total_recomendacoes</th>\n",
              "      <th>total_aeronaves_envolvidas</th>\n",
              "      <th>ocorrencia_saida_pista</th>\n",
              "    </tr>\n",
              "  </thead>\n",
              "  <tbody>\n",
              "    <tr>\n",
              "      <th>0</th>\n",
              "      <td>39115</td>\n",
              "      <td>39115</td>\n",
              "      <td>39115</td>\n",
              "      <td>39115</td>\n",
              "      <td>39115</td>\n",
              "      <td>ACIDENTE</td>\n",
              "      <td>-133.805.555.556</td>\n",
              "      <td>-446.172.222.222</td>\n",
              "      <td>CORRENTINA</td>\n",
              "      <td>BA</td>\n",
              "      <td>BRASIL</td>\n",
              "      <td>SNTY</td>\n",
              "      <td>07/02/2010</td>\n",
              "      <td>17:40:00</td>\n",
              "      <td>SIM</td>\n",
              "      <td>FINALIZADA</td>\n",
              "      <td>A-031/CENIPA/2011</td>\n",
              "      <td>SIM</td>\n",
              "      <td>21/07/2011</td>\n",
              "      <td>2</td>\n",
              "      <td>1</td>\n",
              "      <td>NÃO</td>\n",
              "    </tr>\n",
              "    <tr>\n",
              "      <th>1</th>\n",
              "      <td>39155</td>\n",
              "      <td>39155</td>\n",
              "      <td>39155</td>\n",
              "      <td>39155</td>\n",
              "      <td>39155</td>\n",
              "      <td>INCIDENTE</td>\n",
              "      <td>***</td>\n",
              "      <td>***</td>\n",
              "      <td>BELO HORIZONTE</td>\n",
              "      <td>MG</td>\n",
              "      <td>BRASIL</td>\n",
              "      <td>****</td>\n",
              "      <td>05/02/2010</td>\n",
              "      <td>12:55:00</td>\n",
              "      <td>SIM</td>\n",
              "      <td>FINALIZADA</td>\n",
              "      <td>NaN</td>\n",
              "      <td>NÃO</td>\n",
              "      <td>NaN</td>\n",
              "      <td>0</td>\n",
              "      <td>1</td>\n",
              "      <td>NÃO</td>\n",
              "    </tr>\n",
              "    <tr>\n",
              "      <th>2</th>\n",
              "      <td>39156</td>\n",
              "      <td>39156</td>\n",
              "      <td>39156</td>\n",
              "      <td>39156</td>\n",
              "      <td>39156</td>\n",
              "      <td>INCIDENTE GRAVE</td>\n",
              "      <td>-152.402.777.778</td>\n",
              "      <td>-593.541.666.667</td>\n",
              "      <td>CASCAVEL</td>\n",
              "      <td>PR</td>\n",
              "      <td>BRASIL</td>\n",
              "      <td>SBCA</td>\n",
              "      <td>10/01/2010</td>\n",
              "      <td>23:15:00</td>\n",
              "      <td>SIM</td>\n",
              "      <td>FINALIZADA</td>\n",
              "      <td>I-004/CENIPA/2011</td>\n",
              "      <td>SIM</td>\n",
              "      <td>30/06/2011</td>\n",
              "      <td>2</td>\n",
              "      <td>1</td>\n",
              "      <td>NÃO</td>\n",
              "    </tr>\n",
              "    <tr>\n",
              "      <th>3</th>\n",
              "      <td>39158</td>\n",
              "      <td>39158</td>\n",
              "      <td>39158</td>\n",
              "      <td>39158</td>\n",
              "      <td>39158</td>\n",
              "      <td>INCIDENTE</td>\n",
              "      <td>***</td>\n",
              "      <td>***</td>\n",
              "      <td>BELÉM</td>\n",
              "      <td>PA</td>\n",
              "      <td>BRASIL</td>\n",
              "      <td>****</td>\n",
              "      <td>28/01/2010</td>\n",
              "      <td>16:00:00</td>\n",
              "      <td>SIM</td>\n",
              "      <td>FINALIZADA</td>\n",
              "      <td>NaN</td>\n",
              "      <td>NÃO</td>\n",
              "      <td>NaN</td>\n",
              "      <td>0</td>\n",
              "      <td>1</td>\n",
              "      <td>NÃO</td>\n",
              "    </tr>\n",
              "    <tr>\n",
              "      <th>4</th>\n",
              "      <td>39176</td>\n",
              "      <td>39176</td>\n",
              "      <td>39176</td>\n",
              "      <td>39176</td>\n",
              "      <td>39176</td>\n",
              "      <td>INCIDENTE</td>\n",
              "      <td>NaN</td>\n",
              "      <td>NaN</td>\n",
              "      <td>SÃO LUÍS</td>\n",
              "      <td>MA</td>\n",
              "      <td>BRASIL</td>\n",
              "      <td>****</td>\n",
              "      <td>05/02/2010</td>\n",
              "      <td>09:30:00</td>\n",
              "      <td>SIM</td>\n",
              "      <td>FINALIZADA</td>\n",
              "      <td>NaN</td>\n",
              "      <td>NÃO</td>\n",
              "      <td>NaN</td>\n",
              "      <td>0</td>\n",
              "      <td>1</td>\n",
              "      <td>NÃO</td>\n",
              "    </tr>\n",
              "  </tbody>\n",
              "</table>\n",
              "</div>"
            ],
            "text/plain": [
              "   codigo_ocorrencia  ...  ocorrencia_saida_pista\n",
              "0              39115  ...                     NÃO\n",
              "1              39155  ...                     NÃO\n",
              "2              39156  ...                     NÃO\n",
              "3              39158  ...                     NÃO\n",
              "4              39176  ...                     NÃO\n",
              "\n",
              "[5 rows x 22 columns]"
            ]
          },
          "metadata": {
            "tags": []
          },
          "execution_count": 5
        }
      ]
    },
    {
      "cell_type": "code",
      "metadata": {
        "colab": {
          "base_uri": "https://localhost:8080/"
        },
        "id": "PcGKM-s4YR2i",
        "outputId": "17e0de2a-0b93-42cb-a986-104edf4dd79a"
      },
      "source": [
        "#analisando o dataset\r\n",
        "df_ocorrencia.info()"
      ],
      "execution_count": 8,
      "outputs": [
        {
          "output_type": "stream",
          "text": [
            "<class 'pandas.core.frame.DataFrame'>\n",
            "RangeIndex: 5242 entries, 0 to 5241\n",
            "Data columns (total 22 columns):\n",
            " #   Column                          Non-Null Count  Dtype \n",
            "---  ------                          --------------  ----- \n",
            " 0   codigo_ocorrencia               5242 non-null   int64 \n",
            " 1   codigo_ocorrencia1              5242 non-null   int64 \n",
            " 2   codigo_ocorrencia2              5242 non-null   int64 \n",
            " 3   codigo_ocorrencia3              5242 non-null   int64 \n",
            " 4   codigo_ocorrencia4              5242 non-null   int64 \n",
            " 5   ocorrencia_classificacao        5242 non-null   object\n",
            " 6   ocorrencia_latitude             3603 non-null   object\n",
            " 7   ocorrencia_longitude            3602 non-null   object\n",
            " 8   ocorrencia_cidade               5242 non-null   object\n",
            " 9   ocorrencia_uf                   5242 non-null   object\n",
            " 10  ocorrencia_pais                 5242 non-null   object\n",
            " 11  ocorrencia_aerodromo            5242 non-null   object\n",
            " 12  ocorrencia_dia                  5242 non-null   object\n",
            " 13  ocorrencia_hora                 5238 non-null   object\n",
            " 14  investigacao_aeronave_liberada  5111 non-null   object\n",
            " 15  investigacao_status             4901 non-null   object\n",
            " 16  divulgacao_relatorio_numero     4403 non-null   object\n",
            " 17  divulgacao_relatorio_publicado  5242 non-null   object\n",
            " 18  divulgacao_dia_publicacao       1459 non-null   object\n",
            " 19  total_recomendacoes             5242 non-null   int64 \n",
            " 20  total_aeronaves_envolvidas      5242 non-null   int64 \n",
            " 21  ocorrencia_saida_pista          5242 non-null   object\n",
            "dtypes: int64(7), object(15)\n",
            "memory usage: 901.1+ KB\n"
          ],
          "name": "stdout"
        }
      ]
    },
    {
      "cell_type": "code",
      "metadata": {
        "colab": {
          "base_uri": "https://localhost:8080/"
        },
        "id": "158fgodSZRuG",
        "outputId": "5c14f02b-ce3b-46b0-947b-61608b67b3ef"
      },
      "source": [
        "#verificando a existência de campos nulos\r\n",
        "df_ocorrencia.isnull().sum()"
      ],
      "execution_count": 9,
      "outputs": [
        {
          "output_type": "execute_result",
          "data": {
            "text/plain": [
              "codigo_ocorrencia                    0\n",
              "codigo_ocorrencia1                   0\n",
              "codigo_ocorrencia2                   0\n",
              "codigo_ocorrencia3                   0\n",
              "codigo_ocorrencia4                   0\n",
              "ocorrencia_classificacao             0\n",
              "ocorrencia_latitude               1639\n",
              "ocorrencia_longitude              1640\n",
              "ocorrencia_cidade                    0\n",
              "ocorrencia_uf                        0\n",
              "ocorrencia_pais                      0\n",
              "ocorrencia_aerodromo                 0\n",
              "ocorrencia_dia                       0\n",
              "ocorrencia_hora                      4\n",
              "investigacao_aeronave_liberada     131\n",
              "investigacao_status                341\n",
              "divulgacao_relatorio_numero        839\n",
              "divulgacao_relatorio_publicado       0\n",
              "divulgacao_dia_publicacao         3783\n",
              "total_recomendacoes                  0\n",
              "total_aeronaves_envolvidas           0\n",
              "ocorrencia_saida_pista               0\n",
              "dtype: int64"
            ]
          },
          "metadata": {
            "tags": []
          },
          "execution_count": 9
        }
      ]
    },
    {
      "cell_type": "markdown",
      "metadata": {
        "id": "FYd_BTfojSC7"
      },
      "source": [
        "**Tabela Aeronave**"
      ]
    },
    {
      "cell_type": "code",
      "metadata": {
        "colab": {
          "base_uri": "https://localhost:8080/",
          "height": 309
        },
        "id": "WioDsQ-Nigfk",
        "outputId": "65970894-758b-4feb-b9b2-f8847a66f3bf"
      },
      "source": [
        "df_aeronave = pd.read_csv('../content/aeronave.csv', sep=\";\")\r\n",
        "df_aeronave.head()"
      ],
      "execution_count": 6,
      "outputs": [
        {
          "output_type": "execute_result",
          "data": {
            "text/html": [
              "<div>\n",
              "<style scoped>\n",
              "    .dataframe tbody tr th:only-of-type {\n",
              "        vertical-align: middle;\n",
              "    }\n",
              "\n",
              "    .dataframe tbody tr th {\n",
              "        vertical-align: top;\n",
              "    }\n",
              "\n",
              "    .dataframe thead th {\n",
              "        text-align: right;\n",
              "    }\n",
              "</style>\n",
              "<table border=\"1\" class=\"dataframe\">\n",
              "  <thead>\n",
              "    <tr style=\"text-align: right;\">\n",
              "      <th></th>\n",
              "      <th>codigo_ocorrencia2</th>\n",
              "      <th>aeronave_matricula</th>\n",
              "      <th>aeronave_operador_categoria</th>\n",
              "      <th>aeronave_tipo_veiculo</th>\n",
              "      <th>aeronave_fabricante</th>\n",
              "      <th>aeronave_modelo</th>\n",
              "      <th>aeronave_tipo_icao</th>\n",
              "      <th>aeronave_motor_tipo</th>\n",
              "      <th>aeronave_motor_quantidade</th>\n",
              "      <th>aeronave_pmd</th>\n",
              "      <th>aeronave_pmd_categoria</th>\n",
              "      <th>aeronave_assentos</th>\n",
              "      <th>aeronave_ano_fabricacao</th>\n",
              "      <th>aeronave_pais_fabricante</th>\n",
              "      <th>aeronave_pais_registro</th>\n",
              "      <th>aeronave_registro_categoria</th>\n",
              "      <th>aeronave_registro_segmento</th>\n",
              "      <th>aeronave_voo_origem</th>\n",
              "      <th>aeronave_voo_destino</th>\n",
              "      <th>aeronave_fase_operacao</th>\n",
              "      <th>aeronave_tipo_operacao</th>\n",
              "      <th>aeronave_nivel_dano</th>\n",
              "      <th>aeronave_fatalidades_total</th>\n",
              "    </tr>\n",
              "  </thead>\n",
              "  <tbody>\n",
              "    <tr>\n",
              "      <th>0</th>\n",
              "      <td>39115</td>\n",
              "      <td>PTNQX</td>\n",
              "      <td>***</td>\n",
              "      <td>AVIÃO</td>\n",
              "      <td>NEIVA INDUSTRIA AERONAUTICA</td>\n",
              "      <td>EMB-711A</td>\n",
              "      <td>P28R</td>\n",
              "      <td>PISTÃO</td>\n",
              "      <td>MONOMOTOR</td>\n",
              "      <td>1202</td>\n",
              "      <td>1202</td>\n",
              "      <td>4.0</td>\n",
              "      <td>1979.0</td>\n",
              "      <td>BRASIL</td>\n",
              "      <td>BRASIL</td>\n",
              "      <td>AVIÃO</td>\n",
              "      <td>PARTICULAR</td>\n",
              "      <td>BRIGADEIRO ARARIPE MACEDO</td>\n",
              "      <td>CORRENTINA</td>\n",
              "      <td>DECOLAGEM</td>\n",
              "      <td>PRIVADA</td>\n",
              "      <td>SUBSTANCIAL</td>\n",
              "      <td>0</td>\n",
              "    </tr>\n",
              "    <tr>\n",
              "      <th>1</th>\n",
              "      <td>39155</td>\n",
              "      <td>PTLVI</td>\n",
              "      <td>***</td>\n",
              "      <td>AVIÃO</td>\n",
              "      <td>BEECH AIRCRAFT</td>\n",
              "      <td>C90</td>\n",
              "      <td>BE9L</td>\n",
              "      <td>TURBOÉLICE</td>\n",
              "      <td>BIMOTOR</td>\n",
              "      <td>4377</td>\n",
              "      <td>4377</td>\n",
              "      <td>8.0</td>\n",
              "      <td>1979.0</td>\n",
              "      <td>BRASIL</td>\n",
              "      <td>BRASIL</td>\n",
              "      <td>AVIÃO</td>\n",
              "      <td>PARTICULAR</td>\n",
              "      <td>FORA DE AERODROMO</td>\n",
              "      <td>FORA DE AERODROMO</td>\n",
              "      <td>DECOLAGEM</td>\n",
              "      <td>PRIVADA</td>\n",
              "      <td>NENHUM</td>\n",
              "      <td>0</td>\n",
              "    </tr>\n",
              "    <tr>\n",
              "      <th>2</th>\n",
              "      <td>39156</td>\n",
              "      <td>PPPTO</td>\n",
              "      <td>***</td>\n",
              "      <td>AVIÃO</td>\n",
              "      <td>AEROSPATIALE AND ALENIA</td>\n",
              "      <td>ATR-72-212A</td>\n",
              "      <td>AT72</td>\n",
              "      <td>TURBOÉLICE</td>\n",
              "      <td>BIMOTOR</td>\n",
              "      <td>22500</td>\n",
              "      <td>22500</td>\n",
              "      <td>73.0</td>\n",
              "      <td>2008.0</td>\n",
              "      <td>BRASIL</td>\n",
              "      <td>BRASIL</td>\n",
              "      <td>AVIÃO</td>\n",
              "      <td>REGULAR</td>\n",
              "      <td>AFONSO PENA</td>\n",
              "      <td>ADALBERTO MENDES DA SILVA</td>\n",
              "      <td>ARREMETIDA NO AR</td>\n",
              "      <td>REGULAR</td>\n",
              "      <td>LEVE</td>\n",
              "      <td>0</td>\n",
              "    </tr>\n",
              "    <tr>\n",
              "      <th>3</th>\n",
              "      <td>39158</td>\n",
              "      <td>PRLGJ</td>\n",
              "      <td>REGULAR</td>\n",
              "      <td>AVIÃO</td>\n",
              "      <td>BOEING COMPANY</td>\n",
              "      <td>757-225</td>\n",
              "      <td>B752</td>\n",
              "      <td>JATO</td>\n",
              "      <td>BIMOTOR</td>\n",
              "      <td>108862</td>\n",
              "      <td>108862</td>\n",
              "      <td>5.0</td>\n",
              "      <td>1984.0</td>\n",
              "      <td>BRASIL</td>\n",
              "      <td>BRASIL</td>\n",
              "      <td>AVIÃO</td>\n",
              "      <td>REGULAR</td>\n",
              "      <td>FORA DE AERODROMO</td>\n",
              "      <td>FORA DE AERODROMO</td>\n",
              "      <td>SUBIDA</td>\n",
              "      <td>REGULAR</td>\n",
              "      <td>NENHUM</td>\n",
              "      <td>0</td>\n",
              "    </tr>\n",
              "    <tr>\n",
              "      <th>4</th>\n",
              "      <td>39176</td>\n",
              "      <td>PRMAA</td>\n",
              "      <td>REGULAR</td>\n",
              "      <td>AVIÃO</td>\n",
              "      <td>AIRBUS INDUSTRIE</td>\n",
              "      <td>A320-232</td>\n",
              "      <td>A320</td>\n",
              "      <td>JATO</td>\n",
              "      <td>BIMOTOR</td>\n",
              "      <td>77000</td>\n",
              "      <td>77000</td>\n",
              "      <td>184.0</td>\n",
              "      <td>2001.0</td>\n",
              "      <td>BRASIL</td>\n",
              "      <td>BRASIL</td>\n",
              "      <td>AVIÃO</td>\n",
              "      <td>REGULAR</td>\n",
              "      <td>FORA DE AERODROMO</td>\n",
              "      <td>FORA DE AERODROMO</td>\n",
              "      <td>SUBIDA</td>\n",
              "      <td>REGULAR</td>\n",
              "      <td>NENHUM</td>\n",
              "      <td>0</td>\n",
              "    </tr>\n",
              "  </tbody>\n",
              "</table>\n",
              "</div>"
            ],
            "text/plain": [
              "   codigo_ocorrencia2  ... aeronave_fatalidades_total\n",
              "0               39115  ...                          0\n",
              "1               39155  ...                          0\n",
              "2               39156  ...                          0\n",
              "3               39158  ...                          0\n",
              "4               39176  ...                          0\n",
              "\n",
              "[5 rows x 23 columns]"
            ]
          },
          "metadata": {
            "tags": []
          },
          "execution_count": 6
        }
      ]
    },
    {
      "cell_type": "markdown",
      "metadata": {
        "id": "HAmW9F7B5UmF"
      },
      "source": [
        "**Tabela Fator Contribuinte**"
      ]
    },
    {
      "cell_type": "code",
      "metadata": {
        "colab": {
          "base_uri": "https://localhost:8080/",
          "height": 204
        },
        "id": "prpF9OJt5bRh",
        "outputId": "78fff460-77e7-45d9-df6d-569552372eca"
      },
      "source": [
        "df_fator_contribuinte = pd.read_csv('../content/fator_contribuinte.csv', sep=\";\")\r\n",
        "df_fator_contribuinte.head()"
      ],
      "execution_count": 48,
      "outputs": [
        {
          "output_type": "execute_result",
          "data": {
            "text/html": [
              "<div>\n",
              "<style scoped>\n",
              "    .dataframe tbody tr th:only-of-type {\n",
              "        vertical-align: middle;\n",
              "    }\n",
              "\n",
              "    .dataframe tbody tr th {\n",
              "        vertical-align: top;\n",
              "    }\n",
              "\n",
              "    .dataframe thead th {\n",
              "        text-align: right;\n",
              "    }\n",
              "</style>\n",
              "<table border=\"1\" class=\"dataframe\">\n",
              "  <thead>\n",
              "    <tr style=\"text-align: right;\">\n",
              "      <th></th>\n",
              "      <th>codigo_ocorrencia3</th>\n",
              "      <th>fator_nome</th>\n",
              "      <th>fator_aspecto</th>\n",
              "      <th>fator_condicionante</th>\n",
              "      <th>fator_area</th>\n",
              "    </tr>\n",
              "  </thead>\n",
              "  <tbody>\n",
              "    <tr>\n",
              "      <th>0</th>\n",
              "      <td>39115</td>\n",
              "      <td>APLICAÇÃO DE COMANDOS</td>\n",
              "      <td>DESEMPENHO DO SER HUMANO</td>\n",
              "      <td>OPERAÇÃO DA AERONAVE</td>\n",
              "      <td>FATOR OPERACIONAL</td>\n",
              "    </tr>\n",
              "    <tr>\n",
              "      <th>1</th>\n",
              "      <td>39115</td>\n",
              "      <td>JULGAMENTO DE PILOTAGEM</td>\n",
              "      <td>DESEMPENHO DO SER HUMANO</td>\n",
              "      <td>OPERAÇÃO DA AERONAVE</td>\n",
              "      <td>FATOR OPERACIONAL</td>\n",
              "    </tr>\n",
              "    <tr>\n",
              "      <th>2</th>\n",
              "      <td>39115</td>\n",
              "      <td>PERCEPÇÃO</td>\n",
              "      <td>ASPECTO PSICOLÓGICO</td>\n",
              "      <td>INDIVIDUAL</td>\n",
              "      <td>FATOR HUMANO</td>\n",
              "    </tr>\n",
              "    <tr>\n",
              "      <th>3</th>\n",
              "      <td>39115</td>\n",
              "      <td>PLANEJAMENTO DE VOO</td>\n",
              "      <td>DESEMPENHO DO SER HUMANO</td>\n",
              "      <td>OPERAÇÃO DA AERONAVE</td>\n",
              "      <td>FATOR OPERACIONAL</td>\n",
              "    </tr>\n",
              "    <tr>\n",
              "      <th>4</th>\n",
              "      <td>39115</td>\n",
              "      <td>POUCA EXPERIÊNCIA DO PILOTO</td>\n",
              "      <td>DESEMPENHO DO SER HUMANO</td>\n",
              "      <td>OPERAÇÃO DA AERONAVE</td>\n",
              "      <td>FATOR OPERACIONAL</td>\n",
              "    </tr>\n",
              "  </tbody>\n",
              "</table>\n",
              "</div>"
            ],
            "text/plain": [
              "   codigo_ocorrencia3  ...         fator_area\n",
              "0               39115  ...  FATOR OPERACIONAL\n",
              "1               39115  ...  FATOR OPERACIONAL\n",
              "2               39115  ...       FATOR HUMANO\n",
              "3               39115  ...  FATOR OPERACIONAL\n",
              "4               39115  ...  FATOR OPERACIONAL\n",
              "\n",
              "[5 rows x 5 columns]"
            ]
          },
          "metadata": {
            "tags": []
          },
          "execution_count": 48
        }
      ]
    },
    {
      "cell_type": "markdown",
      "metadata": {
        "id": "S8QSOy5R5eJz"
      },
      "source": [
        "**Tabela Ocorrência Tipo**"
      ]
    },
    {
      "cell_type": "code",
      "metadata": {
        "colab": {
          "base_uri": "https://localhost:8080/",
          "height": 204
        },
        "id": "b6eR-QhC5kzD",
        "outputId": "16be03c9-03e1-46bc-ee14-fb48fb18d417"
      },
      "source": [
        "df_ocorrencia_tipo = pd.read_csv('../content/ocorrencia_tipo.csv', sep=\";\")\r\n",
        "df_ocorrencia_tipo.head()"
      ],
      "execution_count": 49,
      "outputs": [
        {
          "output_type": "execute_result",
          "data": {
            "text/html": [
              "<div>\n",
              "<style scoped>\n",
              "    .dataframe tbody tr th:only-of-type {\n",
              "        vertical-align: middle;\n",
              "    }\n",
              "\n",
              "    .dataframe tbody tr th {\n",
              "        vertical-align: top;\n",
              "    }\n",
              "\n",
              "    .dataframe thead th {\n",
              "        text-align: right;\n",
              "    }\n",
              "</style>\n",
              "<table border=\"1\" class=\"dataframe\">\n",
              "  <thead>\n",
              "    <tr style=\"text-align: right;\">\n",
              "      <th></th>\n",
              "      <th>codigo_ocorrencia1</th>\n",
              "      <th>ocorrencia_tipo</th>\n",
              "      <th>ocorrencia_tipo_categoria</th>\n",
              "      <th>taxonomia_tipo_icao</th>\n",
              "    </tr>\n",
              "  </thead>\n",
              "  <tbody>\n",
              "    <tr>\n",
              "      <th>0</th>\n",
              "      <td>39115</td>\n",
              "      <td>PANE SECA</td>\n",
              "      <td>COMBUSTÍVEL | PANE SECA</td>\n",
              "      <td>FUEL</td>\n",
              "    </tr>\n",
              "    <tr>\n",
              "      <th>1</th>\n",
              "      <td>39155</td>\n",
              "      <td>VAZAMENTO DE COMBUSTÍVEL</td>\n",
              "      <td>FALHA OU MAU FUNCIONAMENTO DE SISTEMA / COMPON...</td>\n",
              "      <td>SCF-NP</td>\n",
              "    </tr>\n",
              "    <tr>\n",
              "      <th>2</th>\n",
              "      <td>39156</td>\n",
              "      <td>FOGO EM VOO</td>\n",
              "      <td>FOGO/FUMAÇA (SEM IMPACTO) | FOGO EM VOO</td>\n",
              "      <td>F-NI</td>\n",
              "    </tr>\n",
              "    <tr>\n",
              "      <th>3</th>\n",
              "      <td>39158</td>\n",
              "      <td>SUPERAQUECIMENTO</td>\n",
              "      <td>FALHA OU MAU FUNCIONAMENTO DO MOTOR | SUPERAQU...</td>\n",
              "      <td>SCF-PP</td>\n",
              "    </tr>\n",
              "    <tr>\n",
              "      <th>4</th>\n",
              "      <td>39176</td>\n",
              "      <td>FALHA OU MAU FUNCIONAMENTO DE SISTEMA / COMPON...</td>\n",
              "      <td>FALHA OU MAU FUNCIONAMENTO DE SISTEMA / COMPON...</td>\n",
              "      <td>SCF-NP</td>\n",
              "    </tr>\n",
              "  </tbody>\n",
              "</table>\n",
              "</div>"
            ],
            "text/plain": [
              "   codigo_ocorrencia1  ... taxonomia_tipo_icao\n",
              "0               39115  ...                FUEL\n",
              "1               39155  ...              SCF-NP\n",
              "2               39156  ...                F-NI\n",
              "3               39158  ...              SCF-PP\n",
              "4               39176  ...              SCF-NP\n",
              "\n",
              "[5 rows x 4 columns]"
            ]
          },
          "metadata": {
            "tags": []
          },
          "execution_count": 49
        }
      ]
    },
    {
      "cell_type": "markdown",
      "metadata": {
        "id": "oGSXGCDM5nLH"
      },
      "source": [
        "**Tabela Recomendação**"
      ]
    },
    {
      "cell_type": "code",
      "metadata": {
        "colab": {
          "base_uri": "https://localhost:8080/",
          "height": 343
        },
        "id": "SPum5iV45vVs",
        "outputId": "c3edb67e-4119-4c4b-901c-c8677a981e95"
      },
      "source": [
        "df_recomendacao = pd.read_csv('../content/recomendacao.csv', sep=\";\")\r\n",
        "df_recomendacao.head()"
      ],
      "execution_count": 50,
      "outputs": [
        {
          "output_type": "execute_result",
          "data": {
            "text/html": [
              "<div>\n",
              "<style scoped>\n",
              "    .dataframe tbody tr th:only-of-type {\n",
              "        vertical-align: middle;\n",
              "    }\n",
              "\n",
              "    .dataframe tbody tr th {\n",
              "        vertical-align: top;\n",
              "    }\n",
              "\n",
              "    .dataframe thead th {\n",
              "        text-align: right;\n",
              "    }\n",
              "</style>\n",
              "<table border=\"1\" class=\"dataframe\">\n",
              "  <thead>\n",
              "    <tr style=\"text-align: right;\">\n",
              "      <th></th>\n",
              "      <th>codigo_ocorrencia4</th>\n",
              "      <th>recomendacao_numero</th>\n",
              "      <th>recomendacao_dia_assinatura</th>\n",
              "      <th>recomendacao_dia_encaminhamento</th>\n",
              "      <th>recomendacao_dia_feedback</th>\n",
              "      <th>recomendacao_conteudo</th>\n",
              "      <th>recomendacao_status</th>\n",
              "      <th>recomendacao_destinatario_sigla</th>\n",
              "      <th>recomendacao_destinatario</th>\n",
              "    </tr>\n",
              "  </thead>\n",
              "  <tbody>\n",
              "    <tr>\n",
              "      <th>0</th>\n",
              "      <td>39115</td>\n",
              "      <td>095/2011</td>\n",
              "      <td>21/07/2011</td>\n",
              "      <td>01/08/2011</td>\n",
              "      <td>21/12/2015</td>\n",
              "      <td>Revisar os requisitos de experiência recente p...</td>\n",
              "      <td>NÃO CUMPRIDA</td>\n",
              "      <td>ANAC</td>\n",
              "      <td>AGÊNCIA NACIONAL DE AVIAÇÃO CIVIL</td>\n",
              "    </tr>\n",
              "    <tr>\n",
              "      <th>1</th>\n",
              "      <td>39115</td>\n",
              "      <td>096/2011</td>\n",
              "      <td>21/07/2011</td>\n",
              "      <td>01/08/2011</td>\n",
              "      <td>16/09/2011</td>\n",
              "      <td>Divulgar o presente relatório final aos operad...</td>\n",
              "      <td>CUMPRIDA</td>\n",
              "      <td>ANAC</td>\n",
              "      <td>AGÊNCIA NACIONAL DE AVIAÇÃO CIVIL</td>\n",
              "    </tr>\n",
              "    <tr>\n",
              "      <th>2</th>\n",
              "      <td>39156</td>\n",
              "      <td>063/2011</td>\n",
              "      <td>30/06/2011</td>\n",
              "      <td>01/08/2011</td>\n",
              "      <td>12/09/2011</td>\n",
              "      <td>Divulgar este Relatório aos operadores de aero...</td>\n",
              "      <td>CUMPRIDA</td>\n",
              "      <td>ANAC</td>\n",
              "      <td>AGÊNCIA NACIONAL DE AVIAÇÃO CIVIL</td>\n",
              "    </tr>\n",
              "    <tr>\n",
              "      <th>3</th>\n",
              "      <td>39156</td>\n",
              "      <td>064/2011</td>\n",
              "      <td>30/06/2011</td>\n",
              "      <td>01/08/2011</td>\n",
              "      <td>16/04/2014</td>\n",
              "      <td>Acompanhar junto à autoridade primária de cert...</td>\n",
              "      <td>CUMPRIDA DE FORMA ALTERNATIVA</td>\n",
              "      <td>ANAC</td>\n",
              "      <td>AGÊNCIA NACIONAL DE AVIAÇÃO CIVIL</td>\n",
              "    </tr>\n",
              "    <tr>\n",
              "      <th>4</th>\n",
              "      <td>39235</td>\n",
              "      <td>205/2011</td>\n",
              "      <td>29/08/2011</td>\n",
              "      <td>29/09/2011</td>\n",
              "      <td>06/11/2012</td>\n",
              "      <td>Realizar uma vistoria de segurança de voo na A...</td>\n",
              "      <td>CUMPRIDA</td>\n",
              "      <td>ANAC</td>\n",
              "      <td>AGÊNCIA NACIONAL DE AVIAÇÃO CIVIL</td>\n",
              "    </tr>\n",
              "  </tbody>\n",
              "</table>\n",
              "</div>"
            ],
            "text/plain": [
              "   codigo_ocorrencia4  ...          recomendacao_destinatario\n",
              "0               39115  ...  AGÊNCIA NACIONAL DE AVIAÇÃO CIVIL\n",
              "1               39115  ...  AGÊNCIA NACIONAL DE AVIAÇÃO CIVIL\n",
              "2               39156  ...  AGÊNCIA NACIONAL DE AVIAÇÃO CIVIL\n",
              "3               39156  ...  AGÊNCIA NACIONAL DE AVIAÇÃO CIVIL\n",
              "4               39235  ...  AGÊNCIA NACIONAL DE AVIAÇÃO CIVIL\n",
              "\n",
              "[5 rows x 9 columns]"
            ]
          },
          "metadata": {
            "tags": []
          },
          "execution_count": 50
        }
      ]
    },
    {
      "cell_type": "markdown",
      "metadata": {
        "id": "nAMRkUkunR7o"
      },
      "source": [
        "**Tabelas contatenadas - Ocorrência and Aeronave**"
      ]
    },
    {
      "cell_type": "code",
      "metadata": {
        "colab": {
          "base_uri": "https://localhost:8080/",
          "height": 309
        },
        "id": "OEHsdc9RjpsY",
        "outputId": "0c7bfcc9-a235-417b-aa1c-f84334423bad"
      },
      "source": [
        "#concatena as duas bases de dados\r\n",
        "df_ocorrencia_aeronave=df_ocorrencia.merge(df_aeronave, on='codigo_ocorrencia2')\r\n",
        "df_ocorrencia_aeronave.head()"
      ],
      "execution_count": 14,
      "outputs": [
        {
          "output_type": "execute_result",
          "data": {
            "text/html": [
              "<div>\n",
              "<style scoped>\n",
              "    .dataframe tbody tr th:only-of-type {\n",
              "        vertical-align: middle;\n",
              "    }\n",
              "\n",
              "    .dataframe tbody tr th {\n",
              "        vertical-align: top;\n",
              "    }\n",
              "\n",
              "    .dataframe thead th {\n",
              "        text-align: right;\n",
              "    }\n",
              "</style>\n",
              "<table border=\"1\" class=\"dataframe\">\n",
              "  <thead>\n",
              "    <tr style=\"text-align: right;\">\n",
              "      <th></th>\n",
              "      <th>codigo_ocorrencia</th>\n",
              "      <th>codigo_ocorrencia1</th>\n",
              "      <th>codigo_ocorrencia2</th>\n",
              "      <th>codigo_ocorrencia3</th>\n",
              "      <th>codigo_ocorrencia4</th>\n",
              "      <th>ocorrencia_classificacao</th>\n",
              "      <th>ocorrencia_latitude</th>\n",
              "      <th>ocorrencia_longitude</th>\n",
              "      <th>ocorrencia_cidade</th>\n",
              "      <th>ocorrencia_uf</th>\n",
              "      <th>ocorrencia_pais</th>\n",
              "      <th>ocorrencia_aerodromo</th>\n",
              "      <th>ocorrencia_dia</th>\n",
              "      <th>ocorrencia_hora</th>\n",
              "      <th>investigacao_aeronave_liberada</th>\n",
              "      <th>investigacao_status</th>\n",
              "      <th>divulgacao_relatorio_numero</th>\n",
              "      <th>divulgacao_relatorio_publicado</th>\n",
              "      <th>divulgacao_dia_publicacao</th>\n",
              "      <th>total_recomendacoes</th>\n",
              "      <th>total_aeronaves_envolvidas</th>\n",
              "      <th>ocorrencia_saida_pista</th>\n",
              "      <th>aeronave_matricula</th>\n",
              "      <th>aeronave_operador_categoria</th>\n",
              "      <th>aeronave_tipo_veiculo</th>\n",
              "      <th>aeronave_fabricante</th>\n",
              "      <th>aeronave_modelo</th>\n",
              "      <th>aeronave_tipo_icao</th>\n",
              "      <th>aeronave_motor_tipo</th>\n",
              "      <th>aeronave_motor_quantidade</th>\n",
              "      <th>aeronave_pmd</th>\n",
              "      <th>aeronave_pmd_categoria</th>\n",
              "      <th>aeronave_assentos</th>\n",
              "      <th>aeronave_ano_fabricacao</th>\n",
              "      <th>aeronave_pais_fabricante</th>\n",
              "      <th>aeronave_pais_registro</th>\n",
              "      <th>aeronave_registro_categoria</th>\n",
              "      <th>aeronave_registro_segmento</th>\n",
              "      <th>aeronave_voo_origem</th>\n",
              "      <th>aeronave_voo_destino</th>\n",
              "      <th>aeronave_fase_operacao</th>\n",
              "      <th>aeronave_tipo_operacao</th>\n",
              "      <th>aeronave_nivel_dano</th>\n",
              "      <th>aeronave_fatalidades_total</th>\n",
              "    </tr>\n",
              "  </thead>\n",
              "  <tbody>\n",
              "    <tr>\n",
              "      <th>0</th>\n",
              "      <td>39115</td>\n",
              "      <td>39115</td>\n",
              "      <td>39115</td>\n",
              "      <td>39115</td>\n",
              "      <td>39115</td>\n",
              "      <td>ACIDENTE</td>\n",
              "      <td>-133.805.555.556</td>\n",
              "      <td>-446.172.222.222</td>\n",
              "      <td>CORRENTINA</td>\n",
              "      <td>BA</td>\n",
              "      <td>BRASIL</td>\n",
              "      <td>SNTY</td>\n",
              "      <td>07/02/2010</td>\n",
              "      <td>17:40:00</td>\n",
              "      <td>SIM</td>\n",
              "      <td>FINALIZADA</td>\n",
              "      <td>A-031/CENIPA/2011</td>\n",
              "      <td>SIM</td>\n",
              "      <td>21/07/2011</td>\n",
              "      <td>2</td>\n",
              "      <td>1</td>\n",
              "      <td>NÃO</td>\n",
              "      <td>PTNQX</td>\n",
              "      <td>***</td>\n",
              "      <td>AVIÃO</td>\n",
              "      <td>NEIVA INDUSTRIA AERONAUTICA</td>\n",
              "      <td>EMB-711A</td>\n",
              "      <td>P28R</td>\n",
              "      <td>PISTÃO</td>\n",
              "      <td>MONOMOTOR</td>\n",
              "      <td>1202</td>\n",
              "      <td>1202</td>\n",
              "      <td>4.0</td>\n",
              "      <td>1979.0</td>\n",
              "      <td>BRASIL</td>\n",
              "      <td>BRASIL</td>\n",
              "      <td>AVIÃO</td>\n",
              "      <td>PARTICULAR</td>\n",
              "      <td>BRIGADEIRO ARARIPE MACEDO</td>\n",
              "      <td>CORRENTINA</td>\n",
              "      <td>DECOLAGEM</td>\n",
              "      <td>PRIVADA</td>\n",
              "      <td>SUBSTANCIAL</td>\n",
              "      <td>0</td>\n",
              "    </tr>\n",
              "    <tr>\n",
              "      <th>1</th>\n",
              "      <td>39155</td>\n",
              "      <td>39155</td>\n",
              "      <td>39155</td>\n",
              "      <td>39155</td>\n",
              "      <td>39155</td>\n",
              "      <td>INCIDENTE</td>\n",
              "      <td>***</td>\n",
              "      <td>***</td>\n",
              "      <td>BELO HORIZONTE</td>\n",
              "      <td>MG</td>\n",
              "      <td>BRASIL</td>\n",
              "      <td>****</td>\n",
              "      <td>05/02/2010</td>\n",
              "      <td>12:55:00</td>\n",
              "      <td>SIM</td>\n",
              "      <td>FINALIZADA</td>\n",
              "      <td>NaN</td>\n",
              "      <td>NÃO</td>\n",
              "      <td>NaN</td>\n",
              "      <td>0</td>\n",
              "      <td>1</td>\n",
              "      <td>NÃO</td>\n",
              "      <td>PTLVI</td>\n",
              "      <td>***</td>\n",
              "      <td>AVIÃO</td>\n",
              "      <td>BEECH AIRCRAFT</td>\n",
              "      <td>C90</td>\n",
              "      <td>BE9L</td>\n",
              "      <td>TURBOÉLICE</td>\n",
              "      <td>BIMOTOR</td>\n",
              "      <td>4377</td>\n",
              "      <td>4377</td>\n",
              "      <td>8.0</td>\n",
              "      <td>1979.0</td>\n",
              "      <td>BRASIL</td>\n",
              "      <td>BRASIL</td>\n",
              "      <td>AVIÃO</td>\n",
              "      <td>PARTICULAR</td>\n",
              "      <td>FORA DE AERODROMO</td>\n",
              "      <td>FORA DE AERODROMO</td>\n",
              "      <td>DECOLAGEM</td>\n",
              "      <td>PRIVADA</td>\n",
              "      <td>NENHUM</td>\n",
              "      <td>0</td>\n",
              "    </tr>\n",
              "    <tr>\n",
              "      <th>2</th>\n",
              "      <td>39156</td>\n",
              "      <td>39156</td>\n",
              "      <td>39156</td>\n",
              "      <td>39156</td>\n",
              "      <td>39156</td>\n",
              "      <td>INCIDENTE GRAVE</td>\n",
              "      <td>-152.402.777.778</td>\n",
              "      <td>-593.541.666.667</td>\n",
              "      <td>CASCAVEL</td>\n",
              "      <td>PR</td>\n",
              "      <td>BRASIL</td>\n",
              "      <td>SBCA</td>\n",
              "      <td>10/01/2010</td>\n",
              "      <td>23:15:00</td>\n",
              "      <td>SIM</td>\n",
              "      <td>FINALIZADA</td>\n",
              "      <td>I-004/CENIPA/2011</td>\n",
              "      <td>SIM</td>\n",
              "      <td>30/06/2011</td>\n",
              "      <td>2</td>\n",
              "      <td>1</td>\n",
              "      <td>NÃO</td>\n",
              "      <td>PPPTO</td>\n",
              "      <td>***</td>\n",
              "      <td>AVIÃO</td>\n",
              "      <td>AEROSPATIALE AND ALENIA</td>\n",
              "      <td>ATR-72-212A</td>\n",
              "      <td>AT72</td>\n",
              "      <td>TURBOÉLICE</td>\n",
              "      <td>BIMOTOR</td>\n",
              "      <td>22500</td>\n",
              "      <td>22500</td>\n",
              "      <td>73.0</td>\n",
              "      <td>2008.0</td>\n",
              "      <td>BRASIL</td>\n",
              "      <td>BRASIL</td>\n",
              "      <td>AVIÃO</td>\n",
              "      <td>REGULAR</td>\n",
              "      <td>AFONSO PENA</td>\n",
              "      <td>ADALBERTO MENDES DA SILVA</td>\n",
              "      <td>ARREMETIDA NO AR</td>\n",
              "      <td>REGULAR</td>\n",
              "      <td>LEVE</td>\n",
              "      <td>0</td>\n",
              "    </tr>\n",
              "    <tr>\n",
              "      <th>3</th>\n",
              "      <td>39158</td>\n",
              "      <td>39158</td>\n",
              "      <td>39158</td>\n",
              "      <td>39158</td>\n",
              "      <td>39158</td>\n",
              "      <td>INCIDENTE</td>\n",
              "      <td>***</td>\n",
              "      <td>***</td>\n",
              "      <td>BELÉM</td>\n",
              "      <td>PA</td>\n",
              "      <td>BRASIL</td>\n",
              "      <td>****</td>\n",
              "      <td>28/01/2010</td>\n",
              "      <td>16:00:00</td>\n",
              "      <td>SIM</td>\n",
              "      <td>FINALIZADA</td>\n",
              "      <td>NaN</td>\n",
              "      <td>NÃO</td>\n",
              "      <td>NaN</td>\n",
              "      <td>0</td>\n",
              "      <td>1</td>\n",
              "      <td>NÃO</td>\n",
              "      <td>PRLGJ</td>\n",
              "      <td>REGULAR</td>\n",
              "      <td>AVIÃO</td>\n",
              "      <td>BOEING COMPANY</td>\n",
              "      <td>757-225</td>\n",
              "      <td>B752</td>\n",
              "      <td>JATO</td>\n",
              "      <td>BIMOTOR</td>\n",
              "      <td>108862</td>\n",
              "      <td>108862</td>\n",
              "      <td>5.0</td>\n",
              "      <td>1984.0</td>\n",
              "      <td>BRASIL</td>\n",
              "      <td>BRASIL</td>\n",
              "      <td>AVIÃO</td>\n",
              "      <td>REGULAR</td>\n",
              "      <td>FORA DE AERODROMO</td>\n",
              "      <td>FORA DE AERODROMO</td>\n",
              "      <td>SUBIDA</td>\n",
              "      <td>REGULAR</td>\n",
              "      <td>NENHUM</td>\n",
              "      <td>0</td>\n",
              "    </tr>\n",
              "    <tr>\n",
              "      <th>4</th>\n",
              "      <td>39176</td>\n",
              "      <td>39176</td>\n",
              "      <td>39176</td>\n",
              "      <td>39176</td>\n",
              "      <td>39176</td>\n",
              "      <td>INCIDENTE</td>\n",
              "      <td>NaN</td>\n",
              "      <td>NaN</td>\n",
              "      <td>SÃO LUÍS</td>\n",
              "      <td>MA</td>\n",
              "      <td>BRASIL</td>\n",
              "      <td>****</td>\n",
              "      <td>05/02/2010</td>\n",
              "      <td>09:30:00</td>\n",
              "      <td>SIM</td>\n",
              "      <td>FINALIZADA</td>\n",
              "      <td>NaN</td>\n",
              "      <td>NÃO</td>\n",
              "      <td>NaN</td>\n",
              "      <td>0</td>\n",
              "      <td>1</td>\n",
              "      <td>NÃO</td>\n",
              "      <td>PRMAA</td>\n",
              "      <td>REGULAR</td>\n",
              "      <td>AVIÃO</td>\n",
              "      <td>AIRBUS INDUSTRIE</td>\n",
              "      <td>A320-232</td>\n",
              "      <td>A320</td>\n",
              "      <td>JATO</td>\n",
              "      <td>BIMOTOR</td>\n",
              "      <td>77000</td>\n",
              "      <td>77000</td>\n",
              "      <td>184.0</td>\n",
              "      <td>2001.0</td>\n",
              "      <td>BRASIL</td>\n",
              "      <td>BRASIL</td>\n",
              "      <td>AVIÃO</td>\n",
              "      <td>REGULAR</td>\n",
              "      <td>FORA DE AERODROMO</td>\n",
              "      <td>FORA DE AERODROMO</td>\n",
              "      <td>SUBIDA</td>\n",
              "      <td>REGULAR</td>\n",
              "      <td>NENHUM</td>\n",
              "      <td>0</td>\n",
              "    </tr>\n",
              "  </tbody>\n",
              "</table>\n",
              "</div>"
            ],
            "text/plain": [
              "   codigo_ocorrencia  ...  aeronave_fatalidades_total\n",
              "0              39115  ...                           0\n",
              "1              39155  ...                           0\n",
              "2              39156  ...                           0\n",
              "3              39158  ...                           0\n",
              "4              39176  ...                           0\n",
              "\n",
              "[5 rows x 44 columns]"
            ]
          },
          "metadata": {
            "tags": []
          },
          "execution_count": 14
        }
      ]
    },
    {
      "cell_type": "code",
      "metadata": {
        "colab": {
          "base_uri": "https://localhost:8080/",
          "height": 297
        },
        "id": "f0NGMelYZ6Ri",
        "outputId": "3a72dc8e-d485-4559-da32-6b2e65ddc7e5"
      },
      "source": [
        "#verificando as colunas nulas\r\n",
        "df_ocorrencia.describe()"
      ],
      "execution_count": 10,
      "outputs": [
        {
          "output_type": "execute_result",
          "data": {
            "text/html": [
              "<div>\n",
              "<style scoped>\n",
              "    .dataframe tbody tr th:only-of-type {\n",
              "        vertical-align: middle;\n",
              "    }\n",
              "\n",
              "    .dataframe tbody tr th {\n",
              "        vertical-align: top;\n",
              "    }\n",
              "\n",
              "    .dataframe thead th {\n",
              "        text-align: right;\n",
              "    }\n",
              "</style>\n",
              "<table border=\"1\" class=\"dataframe\">\n",
              "  <thead>\n",
              "    <tr style=\"text-align: right;\">\n",
              "      <th></th>\n",
              "      <th>codigo_ocorrencia</th>\n",
              "      <th>codigo_ocorrencia1</th>\n",
              "      <th>codigo_ocorrencia2</th>\n",
              "      <th>codigo_ocorrencia3</th>\n",
              "      <th>codigo_ocorrencia4</th>\n",
              "      <th>total_recomendacoes</th>\n",
              "      <th>total_aeronaves_envolvidas</th>\n",
              "    </tr>\n",
              "  </thead>\n",
              "  <tbody>\n",
              "    <tr>\n",
              "      <th>count</th>\n",
              "      <td>5242.000000</td>\n",
              "      <td>5242.000000</td>\n",
              "      <td>5242.000000</td>\n",
              "      <td>5242.000000</td>\n",
              "      <td>5242.000000</td>\n",
              "      <td>5242.000000</td>\n",
              "      <td>5242.000000</td>\n",
              "    </tr>\n",
              "    <tr>\n",
              "      <th>mean</th>\n",
              "      <td>56468.204693</td>\n",
              "      <td>56468.204693</td>\n",
              "      <td>56468.204693</td>\n",
              "      <td>56468.204693</td>\n",
              "      <td>56468.204693</td>\n",
              "      <td>0.320488</td>\n",
              "      <td>1.011637</td>\n",
              "    </tr>\n",
              "    <tr>\n",
              "      <th>std</th>\n",
              "      <td>13044.673295</td>\n",
              "      <td>13044.673295</td>\n",
              "      <td>13044.673295</td>\n",
              "      <td>13044.673295</td>\n",
              "      <td>13044.673295</td>\n",
              "      <td>1.186290</td>\n",
              "      <td>0.110755</td>\n",
              "    </tr>\n",
              "    <tr>\n",
              "      <th>min</th>\n",
              "      <td>39115.000000</td>\n",
              "      <td>39115.000000</td>\n",
              "      <td>39115.000000</td>\n",
              "      <td>39115.000000</td>\n",
              "      <td>39115.000000</td>\n",
              "      <td>0.000000</td>\n",
              "      <td>1.000000</td>\n",
              "    </tr>\n",
              "    <tr>\n",
              "      <th>25%</th>\n",
              "      <td>46024.500000</td>\n",
              "      <td>46024.500000</td>\n",
              "      <td>46024.500000</td>\n",
              "      <td>46024.500000</td>\n",
              "      <td>46024.500000</td>\n",
              "      <td>0.000000</td>\n",
              "      <td>1.000000</td>\n",
              "    </tr>\n",
              "    <tr>\n",
              "      <th>50%</th>\n",
              "      <td>51692.500000</td>\n",
              "      <td>51692.500000</td>\n",
              "      <td>51692.500000</td>\n",
              "      <td>51692.500000</td>\n",
              "      <td>51692.500000</td>\n",
              "      <td>0.000000</td>\n",
              "      <td>1.000000</td>\n",
              "    </tr>\n",
              "    <tr>\n",
              "      <th>75%</th>\n",
              "      <td>66449.750000</td>\n",
              "      <td>66449.750000</td>\n",
              "      <td>66449.750000</td>\n",
              "      <td>66449.750000</td>\n",
              "      <td>66449.750000</td>\n",
              "      <td>0.000000</td>\n",
              "      <td>1.000000</td>\n",
              "    </tr>\n",
              "    <tr>\n",
              "      <th>max</th>\n",
              "      <td>79665.000000</td>\n",
              "      <td>79665.000000</td>\n",
              "      <td>79665.000000</td>\n",
              "      <td>79665.000000</td>\n",
              "      <td>79665.000000</td>\n",
              "      <td>23.000000</td>\n",
              "      <td>3.000000</td>\n",
              "    </tr>\n",
              "  </tbody>\n",
              "</table>\n",
              "</div>"
            ],
            "text/plain": [
              "       codigo_ocorrencia  ...  total_aeronaves_envolvidas\n",
              "count        5242.000000  ...                 5242.000000\n",
              "mean        56468.204693  ...                    1.011637\n",
              "std         13044.673295  ...                    0.110755\n",
              "min         39115.000000  ...                    1.000000\n",
              "25%         46024.500000  ...                    1.000000\n",
              "50%         51692.500000  ...                    1.000000\n",
              "75%         66449.750000  ...                    1.000000\n",
              "max         79665.000000  ...                    3.000000\n",
              "\n",
              "[8 rows x 7 columns]"
            ]
          },
          "metadata": {
            "tags": []
          },
          "execution_count": 10
        }
      ]
    },
    {
      "cell_type": "code",
      "metadata": {
        "colab": {
          "base_uri": "https://localhost:8080/",
          "height": 266
        },
        "id": "0taBT886btJD",
        "outputId": "be258211-7586-4b9f-a7dc-4362f1459ad0"
      },
      "source": [
        "#constroi o boxplot para as colunas desejadas verificando se existem outliers (anomalias) nos dados.\r\n",
        "df_ocorrencia[['total_recomendacoes']].boxplot();\r\n"
      ],
      "execution_count": 106,
      "outputs": [
        {
          "output_type": "display_data",
          "data": {
            "image/png": "[encoded data removed]",
            "text/plain": [
              "<Figure size 432x288 with 1 Axes>"
            ]
          },
          "metadata": {
            "tags": [],
            "needs_background": "light"
          }
        }
      ]
    },
    {
      "cell_type": "code",
      "metadata": {
        "colab": {
          "base_uri": "https://localhost:8080/",
          "height": 296
        },
        "id": "gST1zAK1dlW6",
        "outputId": "dbf7954c-2e56-47dd-c6c4-0fe9d585549f"
      },
      "source": [
        ""
      ],
      "execution_count": 12,
      "outputs": [
        {
          "output_type": "display_data",
          "data": {
            "image/png": "[encoded data removed]",
            "text/plain": [
              "<Figure size 432x288 with 1 Axes>"
            ]
          },
          "metadata": {
            "tags": [],
            "needs_background": "light"
          }
        }
      ]
    },
    {
      "cell_type": "code",
      "metadata": {
        "colab": {
          "base_uri": "https://localhost:8080/",
          "height": 295
        },
        "id": "LErfQrcqg13O",
        "outputId": "f62b1b66-5da7-4c63-fac2-31471510bc50"
      },
      "source": [
        "#analisando a distribuição dos clientes quanto a idade através do histograma\r\n",
        "df_ocorrencia.hist('total_recomendacoes', bins=35);  #seleciona a coluna idade para realizar o histograma\r\n",
        "                                 # os \"bins\" indicam a quantidade de grupos que se deseja dividir os dados\r\n",
        "\r\n",
        "# adiciona o título ao gráfico (histograma)\r\n",
        "plt.title('Total de recomendações');\r\n",
        "plt.xlabel('Quantidade de recomendações');"
      ],
      "execution_count": 13,
      "outputs": [
        {
          "output_type": "display_data",
          "data": {
            "image/png": "[encoded data removed]",
            "text/plain": [
              "<Figure size 432x288 with 1 Axes>"
            ]
          },
          "metadata": {
            "tags": [],
            "needs_background": "light"
          }
        }
      ]
    },
    {
      "cell_type": "markdown",
      "metadata": {
        "id": "janU57xpfVFY"
      },
      "source": [
        "**Tipos de ocorrências**"
      ]
    },
    {
      "cell_type": "code",
      "metadata": {
        "colab": {
          "base_uri": "https://localhost:8080/"
        },
        "id": "TJCYv13wiXjs",
        "outputId": "2142126b-0035-4524-dfa9-440b354d3e98"
      },
      "source": [
        "# Contando os tipos de ocorrências\r\n",
        "df_ocorrencia['ocorrencia_classificacao'].value_counts()"
      ],
      "execution_count": 20,
      "outputs": [
        {
          "output_type": "execute_result",
          "data": {
            "text/plain": [
              "INCIDENTE          2889\n",
              "ACIDENTE           1693\n",
              "INCIDENTE GRAVE     660\n",
              "Name: ocorrencia_classificacao, dtype: int64"
            ]
          },
          "metadata": {
            "tags": []
          },
          "execution_count": 20
        }
      ]
    },
    {
      "cell_type": "code",
      "metadata": {
        "colab": {
          "base_uri": "https://localhost:8080/",
          "height": 296
        },
        "id": "0H-kPLC4tkVR",
        "outputId": "7ef34302-506b-46a4-dff1-7cee670cd03d"
      },
      "source": [
        "#analisando a distribuição de ocorrências em cada categoria\r\n",
        "sns.countplot(x='ocorrencia_classificacao', data=df_ocorrencia); \r\n",
        "plt.title('Distribuição das ocorrências');  #adiciona o título no gráfico"
      ],
      "execution_count": 91,
      "outputs": [
        {
          "output_type": "display_data",
          "data": {
            "image/png": "[encoded data removed]",
            "text/plain": [
              "<Figure size 432x288 with 1 Axes>"
            ]
          },
          "metadata": {
            "tags": [],
            "needs_background": "light"
          }
        }
      ]
    },
    {
      "cell_type": "markdown",
      "metadata": {
        "id": "iY_D6k-s2Ns1"
      },
      "source": [
        "**Estados com mais Ocorrências**"
      ]
    },
    {
      "cell_type": "code",
      "metadata": {
        "colab": {
          "base_uri": "https://localhost:8080/",
          "height": 917
        },
        "id": "_Eu-fGLu2RQQ",
        "outputId": "8cd4294a-123d-4f40-9f6c-c0b060058565"
      },
      "source": [
        "# Estados com mais Ocorrências\r\n",
        "df = pd.DataFrame(df_ocorrencia['ocorrencia_uf'].value_counts())\r\n",
        "df['%'] = 100*df['ocorrencia_uf']/df_ocorrencia['ocorrencia_uf'].shape[0]\r\n",
        "df\r\n"
      ],
      "execution_count": 57,
      "outputs": [
        {
          "output_type": "execute_result",
          "data": {
            "text/html": [
              "<div>\n",
              "<style scoped>\n",
              "    .dataframe tbody tr th:only-of-type {\n",
              "        vertical-align: middle;\n",
              "    }\n",
              "\n",
              "    .dataframe tbody tr th {\n",
              "        vertical-align: top;\n",
              "    }\n",
              "\n",
              "    .dataframe thead th {\n",
              "        text-align: right;\n",
              "    }\n",
              "</style>\n",
              "<table border=\"1\" class=\"dataframe\">\n",
              "  <thead>\n",
              "    <tr style=\"text-align: right;\">\n",
              "      <th></th>\n",
              "      <th>ocorrencia_uf</th>\n",
              "      <th>%</th>\n",
              "    </tr>\n",
              "  </thead>\n",
              "  <tbody>\n",
              "    <tr>\n",
              "      <th>SP</th>\n",
              "      <td>1239</td>\n",
              "      <td>23.636017</td>\n",
              "    </tr>\n",
              "    <tr>\n",
              "      <th>MG</th>\n",
              "      <td>481</td>\n",
              "      <td>9.175887</td>\n",
              "    </tr>\n",
              "    <tr>\n",
              "      <th>RJ</th>\n",
              "      <td>480</td>\n",
              "      <td>9.156810</td>\n",
              "    </tr>\n",
              "    <tr>\n",
              "      <th>PR</th>\n",
              "      <td>442</td>\n",
              "      <td>8.431896</td>\n",
              "    </tr>\n",
              "    <tr>\n",
              "      <th>RS</th>\n",
              "      <td>334</td>\n",
              "      <td>6.371614</td>\n",
              "    </tr>\n",
              "    <tr>\n",
              "      <th>GO</th>\n",
              "      <td>286</td>\n",
              "      <td>5.455933</td>\n",
              "    </tr>\n",
              "    <tr>\n",
              "      <th>PA</th>\n",
              "      <td>262</td>\n",
              "      <td>4.998092</td>\n",
              "    </tr>\n",
              "    <tr>\n",
              "      <th>MT</th>\n",
              "      <td>255</td>\n",
              "      <td>4.864556</td>\n",
              "    </tr>\n",
              "    <tr>\n",
              "      <th>AM</th>\n",
              "      <td>215</td>\n",
              "      <td>4.101488</td>\n",
              "    </tr>\n",
              "    <tr>\n",
              "      <th>BA</th>\n",
              "      <td>201</td>\n",
              "      <td>3.834414</td>\n",
              "    </tr>\n",
              "    <tr>\n",
              "      <th>SC</th>\n",
              "      <td>166</td>\n",
              "      <td>3.166730</td>\n",
              "    </tr>\n",
              "    <tr>\n",
              "      <th>MS</th>\n",
              "      <td>134</td>\n",
              "      <td>2.556276</td>\n",
              "    </tr>\n",
              "    <tr>\n",
              "      <th>DF</th>\n",
              "      <td>129</td>\n",
              "      <td>2.460893</td>\n",
              "    </tr>\n",
              "    <tr>\n",
              "      <th>PE</th>\n",
              "      <td>91</td>\n",
              "      <td>1.735979</td>\n",
              "    </tr>\n",
              "    <tr>\n",
              "      <th>CE</th>\n",
              "      <td>78</td>\n",
              "      <td>1.487982</td>\n",
              "    </tr>\n",
              "    <tr>\n",
              "      <th>ES</th>\n",
              "      <td>68</td>\n",
              "      <td>1.297215</td>\n",
              "    </tr>\n",
              "    <tr>\n",
              "      <th>MA</th>\n",
              "      <td>67</td>\n",
              "      <td>1.278138</td>\n",
              "    </tr>\n",
              "    <tr>\n",
              "      <th>AC</th>\n",
              "      <td>54</td>\n",
              "      <td>1.030141</td>\n",
              "    </tr>\n",
              "    <tr>\n",
              "      <th>RR</th>\n",
              "      <td>49</td>\n",
              "      <td>0.934758</td>\n",
              "    </tr>\n",
              "    <tr>\n",
              "      <th>TO</th>\n",
              "      <td>47</td>\n",
              "      <td>0.896604</td>\n",
              "    </tr>\n",
              "    <tr>\n",
              "      <th>PI</th>\n",
              "      <td>37</td>\n",
              "      <td>0.705837</td>\n",
              "    </tr>\n",
              "    <tr>\n",
              "      <th>AL</th>\n",
              "      <td>29</td>\n",
              "      <td>0.553224</td>\n",
              "    </tr>\n",
              "    <tr>\n",
              "      <th>RO</th>\n",
              "      <td>28</td>\n",
              "      <td>0.534147</td>\n",
              "    </tr>\n",
              "    <tr>\n",
              "      <th>PB</th>\n",
              "      <td>24</td>\n",
              "      <td>0.457841</td>\n",
              "    </tr>\n",
              "    <tr>\n",
              "      <th>SE</th>\n",
              "      <td>21</td>\n",
              "      <td>0.400610</td>\n",
              "    </tr>\n",
              "    <tr>\n",
              "      <th>RN</th>\n",
              "      <td>14</td>\n",
              "      <td>0.267074</td>\n",
              "    </tr>\n",
              "    <tr>\n",
              "      <th>AP</th>\n",
              "      <td>9</td>\n",
              "      <td>0.171690</td>\n",
              "    </tr>\n",
              "    <tr>\n",
              "      <th>***</th>\n",
              "      <td>2</td>\n",
              "      <td>0.038153</td>\n",
              "    </tr>\n",
              "  </tbody>\n",
              "</table>\n",
              "</div>"
            ],
            "text/plain": [
              "     ocorrencia_uf          %\n",
              "SP            1239  23.636017\n",
              "MG             481   9.175887\n",
              "RJ             480   9.156810\n",
              "PR             442   8.431896\n",
              "RS             334   6.371614\n",
              "GO             286   5.455933\n",
              "PA             262   4.998092\n",
              "MT             255   4.864556\n",
              "AM             215   4.101488\n",
              "BA             201   3.834414\n",
              "SC             166   3.166730\n",
              "MS             134   2.556276\n",
              "DF             129   2.460893\n",
              "PE              91   1.735979\n",
              "CE              78   1.487982\n",
              "ES              68   1.297215\n",
              "MA              67   1.278138\n",
              "AC              54   1.030141\n",
              "RR              49   0.934758\n",
              "TO              47   0.896604\n",
              "PI              37   0.705837\n",
              "AL              29   0.553224\n",
              "RO              28   0.534147\n",
              "PB              24   0.457841\n",
              "SE              21   0.400610\n",
              "RN              14   0.267074\n",
              "AP               9   0.171690\n",
              "***              2   0.038153"
            ]
          },
          "metadata": {
            "tags": []
          },
          "execution_count": 57
        }
      ]
    },
    {
      "cell_type": "markdown",
      "metadata": {
        "id": "lOXPCP8M20Jb"
      },
      "source": [
        "**Cidades com mais Ocorrências**"
      ]
    },
    {
      "cell_type": "code",
      "metadata": {
        "colab": {
          "base_uri": "https://localhost:8080/",
          "height": 419
        },
        "id": "A3y46KRr26X2",
        "outputId": "0a76d850-89cc-429b-893b-1a9cb393bec0"
      },
      "source": [
        "# Cidades com mais Ocorrências\r\n",
        "df = pd.DataFrame(df_ocorrencia['ocorrencia_cidade'].value_counts())\r\n",
        "df['%'] = 100*df['ocorrencia_cidade']/df_ocorrencia['ocorrencia_cidade'].shape[0]\r\n",
        "df"
      ],
      "execution_count": 56,
      "outputs": [
        {
          "output_type": "execute_result",
          "data": {
            "text/html": [
              "<div>\n",
              "<style scoped>\n",
              "    .dataframe tbody tr th:only-of-type {\n",
              "        vertical-align: middle;\n",
              "    }\n",
              "\n",
              "    .dataframe tbody tr th {\n",
              "        vertical-align: top;\n",
              "    }\n",
              "\n",
              "    .dataframe thead th {\n",
              "        text-align: right;\n",
              "    }\n",
              "</style>\n",
              "<table border=\"1\" class=\"dataframe\">\n",
              "  <thead>\n",
              "    <tr style=\"text-align: right;\">\n",
              "      <th></th>\n",
              "      <th>ocorrencia_cidade</th>\n",
              "      <th>%</th>\n",
              "    </tr>\n",
              "  </thead>\n",
              "  <tbody>\n",
              "    <tr>\n",
              "      <th>RIO DE JANEIRO</th>\n",
              "      <td>293</td>\n",
              "      <td>5.589470</td>\n",
              "    </tr>\n",
              "    <tr>\n",
              "      <th>SÃO PAULO</th>\n",
              "      <td>252</td>\n",
              "      <td>4.807325</td>\n",
              "    </tr>\n",
              "    <tr>\n",
              "      <th>BELO HORIZONTE</th>\n",
              "      <td>173</td>\n",
              "      <td>3.300267</td>\n",
              "    </tr>\n",
              "    <tr>\n",
              "      <th>GUARULHOS</th>\n",
              "      <td>139</td>\n",
              "      <td>2.651660</td>\n",
              "    </tr>\n",
              "    <tr>\n",
              "      <th>GOIÂNIA</th>\n",
              "      <td>132</td>\n",
              "      <td>2.518123</td>\n",
              "    </tr>\n",
              "    <tr>\n",
              "      <th>...</th>\n",
              "      <td>...</td>\n",
              "      <td>...</td>\n",
              "    </tr>\n",
              "    <tr>\n",
              "      <th>ITABERÁ</th>\n",
              "      <td>1</td>\n",
              "      <td>0.019077</td>\n",
              "    </tr>\n",
              "    <tr>\n",
              "      <th>VARJÃO DE MINAS</th>\n",
              "      <td>1</td>\n",
              "      <td>0.019077</td>\n",
              "    </tr>\n",
              "    <tr>\n",
              "      <th>PASSOS</th>\n",
              "      <td>1</td>\n",
              "      <td>0.019077</td>\n",
              "    </tr>\n",
              "    <tr>\n",
              "      <th>LAJEADO GRANDE</th>\n",
              "      <td>1</td>\n",
              "      <td>0.019077</td>\n",
              "    </tr>\n",
              "    <tr>\n",
              "      <th>CAMPO BONITO</th>\n",
              "      <td>1</td>\n",
              "      <td>0.019077</td>\n",
              "    </tr>\n",
              "  </tbody>\n",
              "</table>\n",
              "<p>1045 rows × 2 columns</p>\n",
              "</div>"
            ],
            "text/plain": [
              "                 ocorrencia_cidade         %\n",
              "RIO DE JANEIRO                 293  5.589470\n",
              "SÃO PAULO                      252  4.807325\n",
              "BELO HORIZONTE                 173  3.300267\n",
              "GUARULHOS                      139  2.651660\n",
              "GOIÂNIA                        132  2.518123\n",
              "...                            ...       ...\n",
              "ITABERÁ                          1  0.019077\n",
              "VARJÃO DE MINAS                  1  0.019077\n",
              "PASSOS                           1  0.019077\n",
              "LAJEADO GRANDE                   1  0.019077\n",
              "CAMPO BONITO                     1  0.019077\n",
              "\n",
              "[1045 rows x 2 columns]"
            ]
          },
          "metadata": {
            "tags": []
          },
          "execution_count": 56
        }
      ]
    },
    {
      "cell_type": "markdown",
      "metadata": {
        "id": "9Sqpq_Gf4wAU"
      },
      "source": [
        "**Divulgação de relatório publicado**"
      ]
    },
    {
      "cell_type": "code",
      "metadata": {
        "colab": {
          "base_uri": "https://localhost:8080/",
          "height": 111
        },
        "id": "D2ViUpzr63SM",
        "outputId": "aef183c9-594d-457f-ca33-89cbe61c0cc4"
      },
      "source": [
        "# Divulgação de relatório publicado\r\n",
        "df = pd.DataFrame(df_ocorrencia['divulgacao_relatorio_publicado'].value_counts())\r\n",
        "df['%'] = 100*df['divulgacao_relatorio_publicado']/df_ocorrencia['divulgacao_relatorio_publicado'].shape[0]\r\n",
        "df"
      ],
      "execution_count": 55,
      "outputs": [
        {
          "output_type": "execute_result",
          "data": {
            "text/html": [
              "<div>\n",
              "<style scoped>\n",
              "    .dataframe tbody tr th:only-of-type {\n",
              "        vertical-align: middle;\n",
              "    }\n",
              "\n",
              "    .dataframe tbody tr th {\n",
              "        vertical-align: top;\n",
              "    }\n",
              "\n",
              "    .dataframe thead th {\n",
              "        text-align: right;\n",
              "    }\n",
              "</style>\n",
              "<table border=\"1\" class=\"dataframe\">\n",
              "  <thead>\n",
              "    <tr style=\"text-align: right;\">\n",
              "      <th></th>\n",
              "      <th>divulgacao_relatorio_publicado</th>\n",
              "      <th>%</th>\n",
              "    </tr>\n",
              "  </thead>\n",
              "  <tbody>\n",
              "    <tr>\n",
              "      <th>NÃO</th>\n",
              "      <td>3785</td>\n",
              "      <td>72.205265</td>\n",
              "    </tr>\n",
              "    <tr>\n",
              "      <th>SIM</th>\n",
              "      <td>1457</td>\n",
              "      <td>27.794735</td>\n",
              "    </tr>\n",
              "  </tbody>\n",
              "</table>\n",
              "</div>"
            ],
            "text/plain": [
              "     divulgacao_relatorio_publicado          %\n",
              "NÃO                            3785  72.205265\n",
              "SIM                            1457  27.794735"
            ]
          },
          "metadata": {
            "tags": []
          },
          "execution_count": 55
        }
      ]
    },
    {
      "cell_type": "markdown",
      "metadata": {
        "id": "Y8wQPMY18YWg"
      },
      "source": [
        "**Ocorrências por ano**"
      ]
    },
    {
      "cell_type": "code",
      "metadata": {
        "colab": {
          "base_uri": "https://localhost:8080/",
          "height": 224
        },
        "id": "-DAgJVkD8c1f",
        "outputId": "7c631fe3-cb15-4a46-b8d9-e90c985f6960"
      },
      "source": [
        "#transformar datatime em ano com criaçaõd e nova coluna \"Year\"\r\n",
        "df_year=df_ocorrencia\r\n",
        "df_year['Year'] = pd.DatetimeIndex(df_year['ocorrencia_dia']).year \r\n",
        "df_year.head()"
      ],
      "execution_count": 65,
      "outputs": [
        {
          "output_type": "execute_result",
          "data": {
            "text/html": [
              "<div>\n",
              "<style scoped>\n",
              "    .dataframe tbody tr th:only-of-type {\n",
              "        vertical-align: middle;\n",
              "    }\n",
              "\n",
              "    .dataframe tbody tr th {\n",
              "        vertical-align: top;\n",
              "    }\n",
              "\n",
              "    .dataframe thead th {\n",
              "        text-align: right;\n",
              "    }\n",
              "</style>\n",
              "<table border=\"1\" class=\"dataframe\">\n",
              "  <thead>\n",
              "    <tr style=\"text-align: right;\">\n",
              "      <th></th>\n",
              "      <th>codigo_ocorrencia</th>\n",
              "      <th>codigo_ocorrencia1</th>\n",
              "      <th>codigo_ocorrencia2</th>\n",
              "      <th>codigo_ocorrencia3</th>\n",
              "      <th>codigo_ocorrencia4</th>\n",
              "      <th>ocorrencia_classificacao</th>\n",
              "      <th>ocorrencia_latitude</th>\n",
              "      <th>ocorrencia_longitude</th>\n",
              "      <th>ocorrencia_cidade</th>\n",
              "      <th>ocorrencia_uf</th>\n",
              "      <th>ocorrencia_pais</th>\n",
              "      <th>ocorrencia_aerodromo</th>\n",
              "      <th>ocorrencia_dia</th>\n",
              "      <th>ocorrencia_hora</th>\n",
              "      <th>investigacao_aeronave_liberada</th>\n",
              "      <th>investigacao_status</th>\n",
              "      <th>divulgacao_relatorio_numero</th>\n",
              "      <th>divulgacao_relatorio_publicado</th>\n",
              "      <th>divulgacao_dia_publicacao</th>\n",
              "      <th>total_recomendacoes</th>\n",
              "      <th>total_aeronaves_envolvidas</th>\n",
              "      <th>ocorrencia_saida_pista</th>\n",
              "      <th>Year</th>\n",
              "    </tr>\n",
              "  </thead>\n",
              "  <tbody>\n",
              "    <tr>\n",
              "      <th>0</th>\n",
              "      <td>39115</td>\n",
              "      <td>39115</td>\n",
              "      <td>39115</td>\n",
              "      <td>39115</td>\n",
              "      <td>39115</td>\n",
              "      <td>ACIDENTE</td>\n",
              "      <td>-133.805.555.556</td>\n",
              "      <td>-446.172.222.222</td>\n",
              "      <td>CORRENTINA</td>\n",
              "      <td>BA</td>\n",
              "      <td>BRASIL</td>\n",
              "      <td>SNTY</td>\n",
              "      <td>07/02/2010</td>\n",
              "      <td>17:40:00</td>\n",
              "      <td>SIM</td>\n",
              "      <td>FINALIZADA</td>\n",
              "      <td>A-031/CENIPA/2011</td>\n",
              "      <td>SIM</td>\n",
              "      <td>21/07/2011</td>\n",
              "      <td>2</td>\n",
              "      <td>1</td>\n",
              "      <td>NÃO</td>\n",
              "      <td>2010</td>\n",
              "    </tr>\n",
              "    <tr>\n",
              "      <th>1</th>\n",
              "      <td>39155</td>\n",
              "      <td>39155</td>\n",
              "      <td>39155</td>\n",
              "      <td>39155</td>\n",
              "      <td>39155</td>\n",
              "      <td>INCIDENTE</td>\n",
              "      <td>***</td>\n",
              "      <td>***</td>\n",
              "      <td>BELO HORIZONTE</td>\n",
              "      <td>MG</td>\n",
              "      <td>BRASIL</td>\n",
              "      <td>****</td>\n",
              "      <td>05/02/2010</td>\n",
              "      <td>12:55:00</td>\n",
              "      <td>SIM</td>\n",
              "      <td>FINALIZADA</td>\n",
              "      <td>NaN</td>\n",
              "      <td>NÃO</td>\n",
              "      <td>NaN</td>\n",
              "      <td>0</td>\n",
              "      <td>1</td>\n",
              "      <td>NÃO</td>\n",
              "      <td>2010</td>\n",
              "    </tr>\n",
              "    <tr>\n",
              "      <th>2</th>\n",
              "      <td>39156</td>\n",
              "      <td>39156</td>\n",
              "      <td>39156</td>\n",
              "      <td>39156</td>\n",
              "      <td>39156</td>\n",
              "      <td>INCIDENTE GRAVE</td>\n",
              "      <td>-152.402.777.778</td>\n",
              "      <td>-593.541.666.667</td>\n",
              "      <td>CASCAVEL</td>\n",
              "      <td>PR</td>\n",
              "      <td>BRASIL</td>\n",
              "      <td>SBCA</td>\n",
              "      <td>10/01/2010</td>\n",
              "      <td>23:15:00</td>\n",
              "      <td>SIM</td>\n",
              "      <td>FINALIZADA</td>\n",
              "      <td>I-004/CENIPA/2011</td>\n",
              "      <td>SIM</td>\n",
              "      <td>30/06/2011</td>\n",
              "      <td>2</td>\n",
              "      <td>1</td>\n",
              "      <td>NÃO</td>\n",
              "      <td>2010</td>\n",
              "    </tr>\n",
              "    <tr>\n",
              "      <th>3</th>\n",
              "      <td>39158</td>\n",
              "      <td>39158</td>\n",
              "      <td>39158</td>\n",
              "      <td>39158</td>\n",
              "      <td>39158</td>\n",
              "      <td>INCIDENTE</td>\n",
              "      <td>***</td>\n",
              "      <td>***</td>\n",
              "      <td>BELÉM</td>\n",
              "      <td>PA</td>\n",
              "      <td>BRASIL</td>\n",
              "      <td>****</td>\n",
              "      <td>28/01/2010</td>\n",
              "      <td>16:00:00</td>\n",
              "      <td>SIM</td>\n",
              "      <td>FINALIZADA</td>\n",
              "      <td>NaN</td>\n",
              "      <td>NÃO</td>\n",
              "      <td>NaN</td>\n",
              "      <td>0</td>\n",
              "      <td>1</td>\n",
              "      <td>NÃO</td>\n",
              "      <td>2010</td>\n",
              "    </tr>\n",
              "    <tr>\n",
              "      <th>4</th>\n",
              "      <td>39176</td>\n",
              "      <td>39176</td>\n",
              "      <td>39176</td>\n",
              "      <td>39176</td>\n",
              "      <td>39176</td>\n",
              "      <td>INCIDENTE</td>\n",
              "      <td>NaN</td>\n",
              "      <td>NaN</td>\n",
              "      <td>SÃO LUÍS</td>\n",
              "      <td>MA</td>\n",
              "      <td>BRASIL</td>\n",
              "      <td>****</td>\n",
              "      <td>05/02/2010</td>\n",
              "      <td>09:30:00</td>\n",
              "      <td>SIM</td>\n",
              "      <td>FINALIZADA</td>\n",
              "      <td>NaN</td>\n",
              "      <td>NÃO</td>\n",
              "      <td>NaN</td>\n",
              "      <td>0</td>\n",
              "      <td>1</td>\n",
              "      <td>NÃO</td>\n",
              "      <td>2010</td>\n",
              "    </tr>\n",
              "  </tbody>\n",
              "</table>\n",
              "</div>"
            ],
            "text/plain": [
              "   codigo_ocorrencia  codigo_ocorrencia1  ...  ocorrencia_saida_pista  Year\n",
              "0              39115               39115  ...                     NÃO  2010\n",
              "1              39155               39155  ...                     NÃO  2010\n",
              "2              39156               39156  ...                     NÃO  2010\n",
              "3              39158               39158  ...                     NÃO  2010\n",
              "4              39176               39176  ...                     NÃO  2010\n",
              "\n",
              "[5 rows x 23 columns]"
            ]
          },
          "metadata": {
            "tags": []
          },
          "execution_count": 65
        }
      ]
    },
    {
      "cell_type": "code",
      "metadata": {
        "colab": {
          "base_uri": "https://localhost:8080/",
          "height": 359
        },
        "id": "hjazzpoa_RGd",
        "outputId": "beee7168-7303-4bea-a3ae-19baabaf967e"
      },
      "source": [
        "# Maiores ocorrências por ano\r\n",
        "df = pd.DataFrame(df_ocorrencia['Year'].value_counts())\r\n",
        "df['%'] = 100*df['Year']/df_ocorrencia['Year'].shape[0]\r\n",
        "df"
      ],
      "execution_count": 66,
      "outputs": [
        {
          "output_type": "execute_result",
          "data": {
            "text/html": [
              "<div>\n",
              "<style scoped>\n",
              "    .dataframe tbody tr th:only-of-type {\n",
              "        vertical-align: middle;\n",
              "    }\n",
              "\n",
              "    .dataframe tbody tr th {\n",
              "        vertical-align: top;\n",
              "    }\n",
              "\n",
              "    .dataframe thead th {\n",
              "        text-align: right;\n",
              "    }\n",
              "</style>\n",
              "<table border=\"1\" class=\"dataframe\">\n",
              "  <thead>\n",
              "    <tr style=\"text-align: right;\">\n",
              "      <th></th>\n",
              "      <th>Year</th>\n",
              "      <th>%</th>\n",
              "    </tr>\n",
              "  </thead>\n",
              "  <tbody>\n",
              "    <tr>\n",
              "      <th>2013</th>\n",
              "      <td>654</td>\n",
              "      <td>12.476154</td>\n",
              "    </tr>\n",
              "    <tr>\n",
              "      <th>2012</th>\n",
              "      <td>647</td>\n",
              "      <td>12.342617</td>\n",
              "    </tr>\n",
              "    <tr>\n",
              "      <th>2011</th>\n",
              "      <td>576</td>\n",
              "      <td>10.988172</td>\n",
              "    </tr>\n",
              "    <tr>\n",
              "      <th>2014</th>\n",
              "      <td>567</td>\n",
              "      <td>10.816482</td>\n",
              "    </tr>\n",
              "    <tr>\n",
              "      <th>2010</th>\n",
              "      <td>552</td>\n",
              "      <td>10.530332</td>\n",
              "    </tr>\n",
              "    <tr>\n",
              "      <th>2019</th>\n",
              "      <td>496</td>\n",
              "      <td>9.462037</td>\n",
              "    </tr>\n",
              "    <tr>\n",
              "      <th>2015</th>\n",
              "      <td>471</td>\n",
              "      <td>8.985120</td>\n",
              "    </tr>\n",
              "    <tr>\n",
              "      <th>2018</th>\n",
              "      <td>444</td>\n",
              "      <td>8.470050</td>\n",
              "    </tr>\n",
              "    <tr>\n",
              "      <th>2017</th>\n",
              "      <td>432</td>\n",
              "      <td>8.241129</td>\n",
              "    </tr>\n",
              "    <tr>\n",
              "      <th>2016</th>\n",
              "      <td>403</td>\n",
              "      <td>7.687905</td>\n",
              "    </tr>\n",
              "  </tbody>\n",
              "</table>\n",
              "</div>"
            ],
            "text/plain": [
              "      Year          %\n",
              "2013   654  12.476154\n",
              "2012   647  12.342617\n",
              "2011   576  10.988172\n",
              "2014   567  10.816482\n",
              "2010   552  10.530332\n",
              "2019   496   9.462037\n",
              "2015   471   8.985120\n",
              "2018   444   8.470050\n",
              "2017   432   8.241129\n",
              "2016   403   7.687905"
            ]
          },
          "metadata": {
            "tags": []
          },
          "execution_count": 66
        }
      ]
    },
    {
      "cell_type": "code",
      "metadata": {
        "colab": {
          "base_uri": "https://localhost:8080/",
          "height": 295
        },
        "id": "U94gOx8-__Op",
        "outputId": "28c518ff-18da-4d2e-b0f6-2fbd50865574"
      },
      "source": [
        "#Criação de gráfico por ano\r\n",
        "sns.countplot(x='Year', data=df_ocorrencia); \r\n",
        "plt.title('Ocorrências por ano');  #adiciona o título no gráfico"
      ],
      "execution_count": 94,
      "outputs": [
        {
          "output_type": "display_data",
          "data": {
            "image/png": "[encoded data removed]",
            "text/plain": [
              "<Figure size 432x288 with 1 Axes>"
            ]
          },
          "metadata": {
            "tags": [],
            "needs_background": "light"
          }
        }
      ]
    },
    {
      "cell_type": "markdown",
      "metadata": {
        "id": "KnMT3Tq0At5e"
      },
      "source": [
        "**Datas com mais ocorrências**"
      ]
    },
    {
      "cell_type": "code",
      "metadata": {
        "colab": {
          "base_uri": "https://localhost:8080/"
        },
        "id": "3ttkIr_gA0OW",
        "outputId": "af72b514-0063-44fb-8eba-db78540ce9bd"
      },
      "source": [
        "# Datas com mais ocorrências\r\n",
        "df_ocorrencia['ocorrencia_dia'].value_counts()"
      ],
      "execution_count": 68,
      "outputs": [
        {
          "output_type": "execute_result",
          "data": {
            "text/plain": [
              "18/12/2013    9\n",
              "15/07/2011    8\n",
              "21/04/2010    7\n",
              "29/12/2011    7\n",
              "09/02/2014    7\n",
              "             ..\n",
              "21/06/2014    1\n",
              "30/09/2018    1\n",
              "15/06/2018    1\n",
              "22/05/2014    1\n",
              "22/02/2011    1\n",
              "Name: ocorrencia_dia, Length: 2701, dtype: int64"
            ]
          },
          "metadata": {
            "tags": []
          },
          "execution_count": 68
        }
      ]
    },
    {
      "cell_type": "markdown",
      "metadata": {
        "id": "1NX2H6RbBYLa"
      },
      "source": [
        "**Horários com mais ocorrências**"
      ]
    },
    {
      "cell_type": "code",
      "metadata": {
        "colab": {
          "base_uri": "https://localhost:8080/",
          "height": 419
        },
        "id": "AFWHQ247BfDY",
        "outputId": "82f0c5a4-7821-43ba-87a2-d43fd237e190"
      },
      "source": [
        "# Horários com mais ocorrências\r\n",
        "df = pd.DataFrame(df_ocorrencia['ocorrencia_hora'].value_counts())\r\n",
        "df['%'] = 100*df['ocorrencia_hora']/df_ocorrencia['ocorrencia_hora'].shape[0]\r\n",
        "df\r\n"
      ],
      "execution_count": 85,
      "outputs": [
        {
          "output_type": "execute_result",
          "data": {
            "text/html": [
              "<div>\n",
              "<style scoped>\n",
              "    .dataframe tbody tr th:only-of-type {\n",
              "        vertical-align: middle;\n",
              "    }\n",
              "\n",
              "    .dataframe tbody tr th {\n",
              "        vertical-align: top;\n",
              "    }\n",
              "\n",
              "    .dataframe thead th {\n",
              "        text-align: right;\n",
              "    }\n",
              "</style>\n",
              "<table border=\"1\" class=\"dataframe\">\n",
              "  <thead>\n",
              "    <tr style=\"text-align: right;\">\n",
              "      <th></th>\n",
              "      <th>ocorrencia_hora</th>\n",
              "      <th>%</th>\n",
              "    </tr>\n",
              "  </thead>\n",
              "  <tbody>\n",
              "    <tr>\n",
              "      <th>20:00:00</th>\n",
              "      <td>110</td>\n",
              "      <td>2.098436</td>\n",
              "    </tr>\n",
              "    <tr>\n",
              "      <th>19:00:00</th>\n",
              "      <td>89</td>\n",
              "      <td>1.697825</td>\n",
              "    </tr>\n",
              "    <tr>\n",
              "      <th>13:00:00</th>\n",
              "      <td>80</td>\n",
              "      <td>1.526135</td>\n",
              "    </tr>\n",
              "    <tr>\n",
              "      <th>13:30:00</th>\n",
              "      <td>80</td>\n",
              "      <td>1.526135</td>\n",
              "    </tr>\n",
              "    <tr>\n",
              "      <th>12:00:00</th>\n",
              "      <td>79</td>\n",
              "      <td>1.507058</td>\n",
              "    </tr>\n",
              "    <tr>\n",
              "      <th>...</th>\n",
              "      <td>...</td>\n",
              "      <td>...</td>\n",
              "    </tr>\n",
              "    <tr>\n",
              "      <th>11:16:00</th>\n",
              "      <td>1</td>\n",
              "      <td>0.019077</td>\n",
              "    </tr>\n",
              "    <tr>\n",
              "      <th>21:36:00</th>\n",
              "      <td>1</td>\n",
              "      <td>0.019077</td>\n",
              "    </tr>\n",
              "    <tr>\n",
              "      <th>01:19:00</th>\n",
              "      <td>1</td>\n",
              "      <td>0.019077</td>\n",
              "    </tr>\n",
              "    <tr>\n",
              "      <th>19:22:00</th>\n",
              "      <td>1</td>\n",
              "      <td>0.019077</td>\n",
              "    </tr>\n",
              "    <tr>\n",
              "      <th>17:37:00</th>\n",
              "      <td>1</td>\n",
              "      <td>0.019077</td>\n",
              "    </tr>\n",
              "  </tbody>\n",
              "</table>\n",
              "<p>938 rows × 2 columns</p>\n",
              "</div>"
            ],
            "text/plain": [
              "          ocorrencia_hora         %\n",
              "20:00:00              110  2.098436\n",
              "19:00:00               89  1.697825\n",
              "13:00:00               80  1.526135\n",
              "13:30:00               80  1.526135\n",
              "12:00:00               79  1.507058\n",
              "...                   ...       ...\n",
              "11:16:00                1  0.019077\n",
              "21:36:00                1  0.019077\n",
              "01:19:00                1  0.019077\n",
              "19:22:00                1  0.019077\n",
              "17:37:00                1  0.019077\n",
              "\n",
              "[938 rows x 2 columns]"
            ]
          },
          "metadata": {
            "tags": []
          },
          "execution_count": 85
        }
      ]
    },
    {
      "cell_type": "markdown",
      "metadata": {
        "id": "zNzFRcytKV8X"
      },
      "source": [
        "**Tipo de ocorrências mais comuns**"
      ]
    },
    {
      "cell_type": "code",
      "metadata": {
        "colab": {
          "base_uri": "https://localhost:8080/",
          "height": 419
        },
        "id": "2XWx4frzLePv",
        "outputId": "6ad4843a-3174-4729-8890-f75595be850f"
      },
      "source": [
        "# Tipo de ocorrências mais comuns\r\n",
        "df = pd.DataFrame(df_ocorrencia_tipo['ocorrencia_tipo'].value_counts())\r\n",
        "df['%'] = 100*df['ocorrencia_tipo']/df_ocorrencia_tipo['ocorrencia_tipo'].shape[0]\r\n",
        "df"
      ],
      "execution_count": 89,
      "outputs": [
        {
          "output_type": "execute_result",
          "data": {
            "text/html": [
              "<div>\n",
              "<style scoped>\n",
              "    .dataframe tbody tr th:only-of-type {\n",
              "        vertical-align: middle;\n",
              "    }\n",
              "\n",
              "    .dataframe tbody tr th {\n",
              "        vertical-align: top;\n",
              "    }\n",
              "\n",
              "    .dataframe thead th {\n",
              "        text-align: right;\n",
              "    }\n",
              "</style>\n",
              "<table border=\"1\" class=\"dataframe\">\n",
              "  <thead>\n",
              "    <tr style=\"text-align: right;\">\n",
              "      <th></th>\n",
              "      <th>ocorrencia_tipo</th>\n",
              "      <th>%</th>\n",
              "    </tr>\n",
              "  </thead>\n",
              "  <tbody>\n",
              "    <tr>\n",
              "      <th>FALHA DO MOTOR EM VOO</th>\n",
              "      <td>637</td>\n",
              "      <td>11.935544</td>\n",
              "    </tr>\n",
              "    <tr>\n",
              "      <th>ESTOURO DE PNEU</th>\n",
              "      <td>566</td>\n",
              "      <td>10.605209</td>\n",
              "    </tr>\n",
              "    <tr>\n",
              "      <th>FALHA OU MAU FUNCIONAMENTO DE SISTEMA / COMPONENTE</th>\n",
              "      <td>534</td>\n",
              "      <td>10.005621</td>\n",
              "    </tr>\n",
              "    <tr>\n",
              "      <th>PERDA DE CONTROLE NO SOLO</th>\n",
              "      <td>438</td>\n",
              "      <td>8.206858</td>\n",
              "    </tr>\n",
              "    <tr>\n",
              "      <th>PERDA DE CONTROLE EM VOO</th>\n",
              "      <td>336</td>\n",
              "      <td>6.295672</td>\n",
              "    </tr>\n",
              "    <tr>\n",
              "      <th>...</th>\n",
              "      <td>...</td>\n",
              "      <td>...</td>\n",
              "    </tr>\n",
              "    <tr>\n",
              "      <th>IMC NÃO INTENCIONAL</th>\n",
              "      <td>1</td>\n",
              "      <td>0.018737</td>\n",
              "    </tr>\n",
              "    <tr>\n",
              "      <th>CAUSADO POR RICOCHETE</th>\n",
              "      <td>1</td>\n",
              "      <td>0.018737</td>\n",
              "    </tr>\n",
              "    <tr>\n",
              "      <th>EXPLOSÃO</th>\n",
              "      <td>1</td>\n",
              "      <td>0.018737</td>\n",
              "    </tr>\n",
              "    <tr>\n",
              "      <th>HIPÓXIA</th>\n",
              "      <td>1</td>\n",
              "      <td>0.018737</td>\n",
              "    </tr>\n",
              "    <tr>\n",
              "      <th>PERDA DE SEPARAÇÃO / COLISÃO EM VOO</th>\n",
              "      <td>1</td>\n",
              "      <td>0.018737</td>\n",
              "    </tr>\n",
              "  </tbody>\n",
              "</table>\n",
              "<p>77 rows × 2 columns</p>\n",
              "</div>"
            ],
            "text/plain": [
              "                                                    ocorrencia_tipo          %\n",
              "FALHA DO MOTOR EM VOO                                           637  11.935544\n",
              "ESTOURO DE PNEU                                                 566  10.605209\n",
              "FALHA OU MAU FUNCIONAMENTO DE SISTEMA / COMPONENTE              534  10.005621\n",
              "PERDA DE CONTROLE NO SOLO                                       438   8.206858\n",
              "PERDA DE CONTROLE EM VOO                                        336   6.295672\n",
              "...                                                             ...        ...\n",
              "IMC NÃO INTENCIONAL                                               1   0.018737\n",
              "CAUSADO POR RICOCHETE                                             1   0.018737\n",
              "EXPLOSÃO                                                          1   0.018737\n",
              "HIPÓXIA                                                           1   0.018737\n",
              "PERDA DE SEPARAÇÃO / COLISÃO EM VOO                               1   0.018737\n",
              "\n",
              "[77 rows x 2 columns]"
            ]
          },
          "metadata": {
            "tags": []
          },
          "execution_count": 89
        }
      ]
    },
    {
      "cell_type": "code",
      "metadata": {
        "colab": {
          "base_uri": "https://localhost:8080/",
          "height": 419
        },
        "id": "i33Io9svKiHC",
        "outputId": "cb303cad-c4b4-44fc-ba9c-97fde583235d"
      },
      "source": [
        "# Tipo de categoria mais comuns\r\n",
        "df = pd.DataFrame(df_ocorrencia_tipo['ocorrencia_tipo_categoria'].value_counts())\r\n",
        "df['%'] = 100*df['ocorrencia_tipo_categoria']/df_ocorrencia_tipo['ocorrencia_tipo_categoria'].shape[0]\r\n",
        "df"
      ],
      "execution_count": 88,
      "outputs": [
        {
          "output_type": "execute_result",
          "data": {
            "text/html": [
              "<div>\n",
              "<style scoped>\n",
              "    .dataframe tbody tr th:only-of-type {\n",
              "        vertical-align: middle;\n",
              "    }\n",
              "\n",
              "    .dataframe tbody tr th {\n",
              "        vertical-align: top;\n",
              "    }\n",
              "\n",
              "    .dataframe thead th {\n",
              "        text-align: right;\n",
              "    }\n",
              "</style>\n",
              "<table border=\"1\" class=\"dataframe\">\n",
              "  <thead>\n",
              "    <tr style=\"text-align: right;\">\n",
              "      <th></th>\n",
              "      <th>ocorrencia_tipo_categoria</th>\n",
              "      <th>%</th>\n",
              "    </tr>\n",
              "  </thead>\n",
              "  <tbody>\n",
              "    <tr>\n",
              "      <th>FALHA OU MAU FUNCIONAMENTO DO MOTOR | FALHA DO MOTOR EM VOO</th>\n",
              "      <td>637</td>\n",
              "      <td>11.935544</td>\n",
              "    </tr>\n",
              "    <tr>\n",
              "      <th>FALHA OU MAU FUNCIONAMENTO DE SISTEMA / COMPONENTE | ESTOURO DE PNEU</th>\n",
              "      <td>566</td>\n",
              "      <td>10.605209</td>\n",
              "    </tr>\n",
              "    <tr>\n",
              "      <th>FALHA OU MAU FUNCIONAMENTO DE SISTEMA / COMPONENTE</th>\n",
              "      <td>534</td>\n",
              "      <td>10.005621</td>\n",
              "    </tr>\n",
              "    <tr>\n",
              "      <th>PERDA DE CONTROLE NO SOLO</th>\n",
              "      <td>438</td>\n",
              "      <td>8.206858</td>\n",
              "    </tr>\n",
              "    <tr>\n",
              "      <th>PERDA DE CONTROLE EM VOO</th>\n",
              "      <td>336</td>\n",
              "      <td>6.295672</td>\n",
              "    </tr>\n",
              "    <tr>\n",
              "      <th>...</th>\n",
              "      <td>...</td>\n",
              "      <td>...</td>\n",
              "    </tr>\n",
              "    <tr>\n",
              "      <th>PERDA DE SEPARAÇÃO / COLISÃO EM VOO | PERDA DE SEPARAÇÃO / COLISÃO EM VOO</th>\n",
              "      <td>1</td>\n",
              "      <td>0.018737</td>\n",
              "    </tr>\n",
              "    <tr>\n",
              "      <th>FALHA OU MAU FUNCIONAMENTO DE SISTEMA / COMPONENTE | EXPLOSÃO</th>\n",
              "      <td>1</td>\n",
              "      <td>0.018737</td>\n",
              "    </tr>\n",
              "    <tr>\n",
              "      <th>OUTROS | HIPÓXIA</th>\n",
              "      <td>1</td>\n",
              "      <td>0.018737</td>\n",
              "    </tr>\n",
              "    <tr>\n",
              "      <th>RELACIONADO COM SECURITY</th>\n",
              "      <td>1</td>\n",
              "      <td>0.018737</td>\n",
              "    </tr>\n",
              "    <tr>\n",
              "      <th>CONTATO ANORMAL COM A PISTA |</th>\n",
              "      <td>1</td>\n",
              "      <td>0.018737</td>\n",
              "    </tr>\n",
              "  </tbody>\n",
              "</table>\n",
              "<p>77 rows × 2 columns</p>\n",
              "</div>"
            ],
            "text/plain": [
              "                                                    ocorrencia_tipo_categoria          %\n",
              "FALHA OU MAU FUNCIONAMENTO DO MOTOR | FALHA DO ...                        637  11.935544\n",
              "FALHA OU MAU FUNCIONAMENTO DE SISTEMA / COMPONE...                        566  10.605209\n",
              "FALHA OU MAU FUNCIONAMENTO DE SISTEMA / COMPONENTE                        534  10.005621\n",
              "PERDA DE CONTROLE NO SOLO                                                 438   8.206858\n",
              "PERDA DE CONTROLE EM VOO                                                  336   6.295672\n",
              "...                                                                       ...        ...\n",
              "PERDA DE SEPARAÇÃO / COLISÃO EM VOO | PERDA DE ...                          1   0.018737\n",
              "FALHA OU MAU FUNCIONAMENTO DE SISTEMA / COMPONE...                          1   0.018737\n",
              "OUTROS | HIPÓXIA                                                            1   0.018737\n",
              "RELACIONADO COM SECURITY                                                    1   0.018737\n",
              "CONTATO ANORMAL COM A PISTA |                                               1   0.018737\n",
              "\n",
              "[77 rows x 2 columns]"
            ]
          },
          "metadata": {
            "tags": []
          },
          "execution_count": 88
        }
      ]
    },
    {
      "cell_type": "markdown",
      "metadata": {
        "id": "Y9TBeYIOMEdT"
      },
      "source": [
        "**Ocorrências com fatalidades**"
      ]
    },
    {
      "cell_type": "code",
      "metadata": {
        "colab": {
          "base_uri": "https://localhost:8080/"
        },
        "id": "Woyg1xPIMClP",
        "outputId": "fc2362d7-d34b-4227-ca91-a1f78efa6f74"
      },
      "source": [
        "# TotalContando fatalidades\r\n",
        "df_ocorrencia_aeronave['aeronave_fatalidades_total'].sum()"
      ],
      "execution_count": 92,
      "outputs": [
        {
          "output_type": "execute_result",
          "data": {
            "text/plain": [
              "826"
            ]
          },
          "metadata": {
            "tags": []
          },
          "execution_count": 92
        }
      ]
    },
    {
      "cell_type": "code",
      "metadata": {
        "colab": {
          "base_uri": "https://localhost:8080/",
          "height": 296
        },
        "id": "k0PpY7O3M81m",
        "outputId": "6a05852e-a69e-471d-c348-be5d7bdf5214"
      },
      "source": [
        "sns.countplot(x='aeronave_fatalidades_total', data=df_ocorrencia_aeronave); \r\n",
        "plt.title('Ocorrências por ano');  #adiciona o título no gráfico"
      ],
      "execution_count": 97,
      "outputs": [
        {
          "output_type": "display_data",
          "data": {
            "image/png": "[encoded data removed]",
            "text/plain": [
              "<Figure size 432x288 with 1 Axes>"
            ]
          },
          "metadata": {
            "tags": [],
            "needs_background": "light"
          }
        }
      ]
    },
    {
      "cell_type": "code",
      "metadata": {
        "colab": {
          "base_uri": "https://localhost:8080/",
          "height": 390
        },
        "id": "IhexPUISOj1Y",
        "outputId": "817bcf04-3938-40ce-bf69-c518627d4660"
      },
      "source": [
        "df = pd.DataFrame(df_ocorrencia_aeronave['aeronave_fatalidades_total'].value_counts())\r\n",
        "df['%'] = 100*df['aeronave_fatalidades_total']/df_ocorrencia_aeronave['aeronave_fatalidades_total'].shape[0]\r\n",
        "df"
      ],
      "execution_count": 98,
      "outputs": [
        {
          "output_type": "execute_result",
          "data": {
            "text/html": [
              "<div>\n",
              "<style scoped>\n",
              "    .dataframe tbody tr th:only-of-type {\n",
              "        vertical-align: middle;\n",
              "    }\n",
              "\n",
              "    .dataframe tbody tr th {\n",
              "        vertical-align: top;\n",
              "    }\n",
              "\n",
              "    .dataframe thead th {\n",
              "        text-align: right;\n",
              "    }\n",
              "</style>\n",
              "<table border=\"1\" class=\"dataframe\">\n",
              "  <thead>\n",
              "    <tr style=\"text-align: right;\">\n",
              "      <th></th>\n",
              "      <th>aeronave_fatalidades_total</th>\n",
              "      <th>%</th>\n",
              "    </tr>\n",
              "  </thead>\n",
              "  <tbody>\n",
              "    <tr>\n",
              "      <th>0</th>\n",
              "      <td>4900</td>\n",
              "      <td>92.400528</td>\n",
              "    </tr>\n",
              "    <tr>\n",
              "      <th>1</th>\n",
              "      <td>201</td>\n",
              "      <td>3.790307</td>\n",
              "    </tr>\n",
              "    <tr>\n",
              "      <th>2</th>\n",
              "      <td>112</td>\n",
              "      <td>2.112012</td>\n",
              "    </tr>\n",
              "    <tr>\n",
              "      <th>3</th>\n",
              "      <td>30</td>\n",
              "      <td>0.565718</td>\n",
              "    </tr>\n",
              "    <tr>\n",
              "      <th>4</th>\n",
              "      <td>28</td>\n",
              "      <td>0.528003</td>\n",
              "    </tr>\n",
              "    <tr>\n",
              "      <th>5</th>\n",
              "      <td>17</td>\n",
              "      <td>0.320573</td>\n",
              "    </tr>\n",
              "    <tr>\n",
              "      <th>6</th>\n",
              "      <td>6</td>\n",
              "      <td>0.113144</td>\n",
              "    </tr>\n",
              "    <tr>\n",
              "      <th>7</th>\n",
              "      <td>4</td>\n",
              "      <td>0.075429</td>\n",
              "    </tr>\n",
              "    <tr>\n",
              "      <th>8</th>\n",
              "      <td>3</td>\n",
              "      <td>0.056572</td>\n",
              "    </tr>\n",
              "    <tr>\n",
              "      <th>10</th>\n",
              "      <td>1</td>\n",
              "      <td>0.018857</td>\n",
              "    </tr>\n",
              "    <tr>\n",
              "      <th>16</th>\n",
              "      <td>1</td>\n",
              "      <td>0.018857</td>\n",
              "    </tr>\n",
              "  </tbody>\n",
              "</table>\n",
              "</div>"
            ],
            "text/plain": [
              "    aeronave_fatalidades_total          %\n",
              "0                         4900  92.400528\n",
              "1                          201   3.790307\n",
              "2                          112   2.112012\n",
              "3                           30   0.565718\n",
              "4                           28   0.528003\n",
              "5                           17   0.320573\n",
              "6                            6   0.113144\n",
              "7                            4   0.075429\n",
              "8                            3   0.056572\n",
              "10                           1   0.018857\n",
              "16                           1   0.018857"
            ]
          },
          "metadata": {
            "tags": []
          },
          "execution_count": 98
        }
      ]
    },
    {
      "cell_type": "markdown",
      "metadata": {
        "id": "oDN_-zndXMAw"
      },
      "source": [
        "**Tabela Recomendação**\r\n",
        "\r\n"
      ]
    },
    {
      "cell_type": "code",
      "metadata": {
        "colab": {
          "base_uri": "https://localhost:8080/"
        },
        "id": "Hrdj4qYiXRsV",
        "outputId": "ddfec97c-4746-4dc7-a1ef-5f7a47d68b6a"
      },
      "source": [
        "# Contando as recomendações sem repetição\r\n",
        "df=df_recomendacao\r\n",
        "print(\"Existem no total {} ocorrências com informações sobre as recomendações de segurança que foram geradas.\".format(df_recomendacao['codigo_ocorrencia4'].nunique()))"
      ],
      "execution_count": 116,
      "outputs": [
        {
          "output_type": "stream",
          "text": [
            "Existem no total 677 ocorrências com informações sobre as recomendações de segurança que foram geradas.\n"
          ],
          "name": "stdout"
        }
      ]
    },
    {
      "cell_type": "code",
      "metadata": {
        "colab": {
          "base_uri": "https://localhost:8080/",
          "height": 204
        },
        "id": "ItuR5P1sY7P7",
        "outputId": "6b6ae070-d473-4328-d62f-15245340b403"
      },
      "source": [
        "df = pd.DataFrame(df_recomendacao['recomendacao_status'].value_counts())\r\n",
        "df['%'] = 100*df['recomendacao_status']/df_recomendacao['recomendacao_status'].shape[0]\r\n",
        "df"
      ],
      "execution_count": 117,
      "outputs": [
        {
          "output_type": "execute_result",
          "data": {
            "text/html": [
              "<div>\n",
              "<style scoped>\n",
              "    .dataframe tbody tr th:only-of-type {\n",
              "        vertical-align: middle;\n",
              "    }\n",
              "\n",
              "    .dataframe tbody tr th {\n",
              "        vertical-align: top;\n",
              "    }\n",
              "\n",
              "    .dataframe thead th {\n",
              "        text-align: right;\n",
              "    }\n",
              "</style>\n",
              "<table border=\"1\" class=\"dataframe\">\n",
              "  <thead>\n",
              "    <tr style=\"text-align: right;\">\n",
              "      <th></th>\n",
              "      <th>recomendacao_status</th>\n",
              "      <th>%</th>\n",
              "    </tr>\n",
              "  </thead>\n",
              "  <tbody>\n",
              "    <tr>\n",
              "      <th>CUMPRIDA</th>\n",
              "      <td>1006</td>\n",
              "      <td>60.095579</td>\n",
              "    </tr>\n",
              "    <tr>\n",
              "      <th>AGUARDANDO RESPOSTA</th>\n",
              "      <td>370</td>\n",
              "      <td>22.102748</td>\n",
              "    </tr>\n",
              "    <tr>\n",
              "      <th>CUMPRIDA DE FORMA ALTERNATIVA</th>\n",
              "      <td>120</td>\n",
              "      <td>7.168459</td>\n",
              "    </tr>\n",
              "    <tr>\n",
              "      <th>NÃO CUMPRIDA</th>\n",
              "      <td>116</td>\n",
              "      <td>6.929510</td>\n",
              "    </tr>\n",
              "    <tr>\n",
              "      <th>***</th>\n",
              "      <td>62</td>\n",
              "      <td>3.703704</td>\n",
              "    </tr>\n",
              "  </tbody>\n",
              "</table>\n",
              "</div>"
            ],
            "text/plain": [
              "                               recomendacao_status          %\n",
              "CUMPRIDA                                      1006  60.095579\n",
              "AGUARDANDO RESPOSTA                            370  22.102748\n",
              "CUMPRIDA DE FORMA ALTERNATIVA                  120   7.168459\n",
              "NÃO CUMPRIDA                                   116   6.929510\n",
              "***                                             62   3.703704"
            ]
          },
          "metadata": {
            "tags": []
          },
          "execution_count": 117
        }
      ]
    },
    {
      "cell_type": "markdown",
      "metadata": {
        "id": "qQxgXgk-PzDr"
      },
      "source": [
        "**Tabela Recomendação**"
      ]
    },
    {
      "cell_type": "code",
      "metadata": {
        "id": "knUCrlWyP8NW"
      },
      "source": [
        "\r\n",
        "# Contando ocorrências sem repetição\r\n",
        "df=df_fator_contribuinte\r\n",
        "print(\"Existem no total {} ocorrências ...s\".format(df_fator_contribuinte['codigo_ocorrencia3'].nunique()))\r\n"
      ],
      "execution_count": null,
      "outputs": []
    },
    {
      "cell_type": "code",
      "metadata": {
        "id": "NFEqdGZWWz4w"
      },
      "source": [
        "df = pd.DataFrame(df_fator_contribuinte['aeronave_fatalidades_total'].value_counts())\r\n",
        "df['%'] = 100*df['aeronave_fatalidades_total']/df_fator_contribuinte['aeronave_fatalidades_total'].shape[0]\r\n",
        "df"
      ],
      "execution_count": null,
      "outputs": []
    },
    {
      "cell_type": "code",
      "metadata": {
        "id": "U4qxa7yNWRPr"
      },
      "source": [
        ""
      ],
      "execution_count": null,
      "outputs": []
    }
  ]
}